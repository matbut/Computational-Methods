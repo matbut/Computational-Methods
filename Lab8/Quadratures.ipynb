{
 "cells": [
  {
   "cell_type": "markdown",
   "metadata": {},
   "source": [
    "## MOwNiT Laboratorium 8 Kwadraury"
   ]
  },
  {
   "cell_type": "code",
   "execution_count": 4,
   "metadata": {},
   "outputs": [],
   "source": [
    "using QuadGK\n",
    "using Polynomials\n",
    "using Plots"
   ]
  },
  {
   "cell_type": "markdown",
   "metadata": {},
   "source": [
    "### Zadanie 1\n",
    "Korzytając z pakietu Polynomials zaimplentuj wielomiany Legendre'a zdefiniowane w taki sposób:\n",
    "\n",
    "$P_{0}(x)=1$\n",
    "\n",
    "$P_{1}(x)=x$\n",
    "\n",
    "$P_{k+1}(x)=\\frac{2k+1}{k+1} x P_{k}(x)-\\frac{k}{k+1}P_{k-1}(x)$\n",
    "\n",
    "- narysuj ich wykresy w przedziale (-1,1).\n",
    "- sprawdź(np. za pomocą fukcji roots z pakietu Polynomials), że ich zera sa odciętymi punktów Gaussa. Test wykonaj dla wielomianow od 2 do 4 stopnia\n",
    "- podaj związek tego faktu z podstawowym twierdzeniem kwadratur Gaussa (z wykładu)"
   ]
  },
  {
   "cell_type": "code",
   "execution_count": 2,
   "metadata": {
    "scrolled": false
   },
   "outputs": [
    {
     "data": {
      "text/plain": [
       "p (generic function with 1 method)"
      ]
     },
     "execution_count": 2,
     "metadata": {},
     "output_type": "execute_result"
    }
   ],
   "source": [
    "p(i) = \n",
    "    if i==0 \n",
    "        #x->1\n",
    "        Poly([1])\n",
    "    elseif i==1 \n",
    "        #x->x\n",
    "        Poly([0,1])\n",
    "    else\n",
    "        #x->(2*i-1)/i*x*p(i-1)(x) - (i-1)/i*p(i-2)(x)\n",
    "        (2*i-1)/i*Poly([0,1])*p(i-1) - (i-1)/i*p(i-2)\n",
    "    end"
   ]
  },
  {
   "cell_type": "code",
   "execution_count": 270,
   "metadata": {
    "scrolled": false
   },
   "outputs": [
    {
     "data": {
      "image/svg+xml": [
       "<?xml version=\"1.0\" encoding=\"utf-8\"?>\n",
       "<svg xmlns=\"http://www.w3.org/2000/svg\" xmlns:xlink=\"http://www.w3.org/1999/xlink\" width=\"600\" height=\"400\" viewBox=\"0 0 2400 1600\">\n",
       "<defs>\n",
       "  <clipPath id=\"clip6400\">\n",
       "    <rect x=\"0\" y=\"0\" width=\"2000\" height=\"2000\"/>\n",
       "  </clipPath>\n",
       "</defs>\n",
       "<defs>\n",
       "  <clipPath id=\"clip6401\">\n",
       "    <rect x=\"0\" y=\"0\" width=\"2400\" height=\"1600\"/>\n",
       "  </clipPath>\n",
       "</defs>\n",
       "<polygon clip-path=\"url(#clip6401)\" points=\"\n",
       "0,1600 2400,1600 2400,0 0,0 \n",
       "  \" fill=\"#ffffff\" fill-rule=\"evenodd\" fill-opacity=\"1\"/>\n",
       "<defs>\n",
       "  <clipPath id=\"clip6402\">\n",
       "    <rect x=\"480\" y=\"0\" width=\"1681\" height=\"1600\"/>\n",
       "  </clipPath>\n",
       "</defs>\n",
       "<polygon clip-path=\"url(#clip6401)\" points=\"\n",
       "189.504,1503.47 2321.26,1503.47 2321.26,125.984 189.504,125.984 \n",
       "  \" fill=\"#ffffff\" fill-rule=\"evenodd\" fill-opacity=\"1\"/>\n",
       "<defs>\n",
       "  <clipPath id=\"clip6403\">\n",
       "    <rect x=\"189\" y=\"125\" width=\"2133\" height=\"1378\"/>\n",
       "  </clipPath>\n",
       "</defs>\n",
       "<polyline clip-path=\"url(#clip6403)\" style=\"stroke:#000000; stroke-width:2; stroke-opacity:0.1; fill:none\" points=\"\n",
       "  244.899,1503.47 244.899,125.984 \n",
       "  \"/>\n",
       "<polyline clip-path=\"url(#clip6403)\" style=\"stroke:#000000; stroke-width:2; stroke-opacity:0.1; fill:none\" points=\"\n",
       "  750.513,1503.47 750.513,125.984 \n",
       "  \"/>\n",
       "<polyline clip-path=\"url(#clip6403)\" style=\"stroke:#000000; stroke-width:2; stroke-opacity:0.1; fill:none\" points=\"\n",
       "  1256.13,1503.47 1256.13,125.984 \n",
       "  \"/>\n",
       "<polyline clip-path=\"url(#clip6403)\" style=\"stroke:#000000; stroke-width:2; stroke-opacity:0.1; fill:none\" points=\"\n",
       "  1761.74,1503.47 1761.74,125.984 \n",
       "  \"/>\n",
       "<polyline clip-path=\"url(#clip6403)\" style=\"stroke:#000000; stroke-width:2; stroke-opacity:0.1; fill:none\" points=\"\n",
       "  2267.35,1503.47 2267.35,125.984 \n",
       "  \"/>\n",
       "<polyline clip-path=\"url(#clip6403)\" style=\"stroke:#000000; stroke-width:2; stroke-opacity:0.1; fill:none\" points=\"\n",
       "  189.504,1477.31 2321.26,1477.31 \n",
       "  \"/>\n",
       "<polyline clip-path=\"url(#clip6403)\" style=\"stroke:#000000; stroke-width:2; stroke-opacity:0.1; fill:none\" points=\"\n",
       "  189.504,1149.22 2321.26,1149.22 \n",
       "  \"/>\n",
       "<polyline clip-path=\"url(#clip6403)\" style=\"stroke:#000000; stroke-width:2; stroke-opacity:0.1; fill:none\" points=\"\n",
       "  189.504,821.138 2321.26,821.138 \n",
       "  \"/>\n",
       "<polyline clip-path=\"url(#clip6403)\" style=\"stroke:#000000; stroke-width:2; stroke-opacity:0.1; fill:none\" points=\"\n",
       "  189.504,493.054 2321.26,493.054 \n",
       "  \"/>\n",
       "<polyline clip-path=\"url(#clip6403)\" style=\"stroke:#000000; stroke-width:2; stroke-opacity:0.1; fill:none\" points=\"\n",
       "  189.504,164.97 2321.26,164.97 \n",
       "  \"/>\n",
       "<polyline clip-path=\"url(#clip6401)\" style=\"stroke:#000000; stroke-width:4; stroke-opacity:1; fill:none\" points=\"\n",
       "  189.504,1503.47 2321.26,1503.47 \n",
       "  \"/>\n",
       "<polyline clip-path=\"url(#clip6401)\" style=\"stroke:#000000; stroke-width:4; stroke-opacity:1; fill:none\" points=\"\n",
       "  189.504,1503.47 189.504,125.984 \n",
       "  \"/>\n",
       "<polyline clip-path=\"url(#clip6401)\" style=\"stroke:#000000; stroke-width:4; stroke-opacity:1; fill:none\" points=\"\n",
       "  244.899,1503.47 244.899,1482.81 \n",
       "  \"/>\n",
       "<polyline clip-path=\"url(#clip6401)\" style=\"stroke:#000000; stroke-width:4; stroke-opacity:1; fill:none\" points=\"\n",
       "  750.513,1503.47 750.513,1482.81 \n",
       "  \"/>\n",
       "<polyline clip-path=\"url(#clip6401)\" style=\"stroke:#000000; stroke-width:4; stroke-opacity:1; fill:none\" points=\"\n",
       "  1256.13,1503.47 1256.13,1482.81 \n",
       "  \"/>\n",
       "<polyline clip-path=\"url(#clip6401)\" style=\"stroke:#000000; stroke-width:4; stroke-opacity:1; fill:none\" points=\"\n",
       "  1761.74,1503.47 1761.74,1482.81 \n",
       "  \"/>\n",
       "<polyline clip-path=\"url(#clip6401)\" style=\"stroke:#000000; stroke-width:4; stroke-opacity:1; fill:none\" points=\"\n",
       "  2267.35,1503.47 2267.35,1482.81 \n",
       "  \"/>\n",
       "<polyline clip-path=\"url(#clip6401)\" style=\"stroke:#000000; stroke-width:4; stroke-opacity:1; fill:none\" points=\"\n",
       "  189.504,1477.31 221.48,1477.31 \n",
       "  \"/>\n",
       "<polyline clip-path=\"url(#clip6401)\" style=\"stroke:#000000; stroke-width:4; stroke-opacity:1; fill:none\" points=\"\n",
       "  189.504,1149.22 221.48,1149.22 \n",
       "  \"/>\n",
       "<polyline clip-path=\"url(#clip6401)\" style=\"stroke:#000000; stroke-width:4; stroke-opacity:1; fill:none\" points=\"\n",
       "  189.504,821.138 221.48,821.138 \n",
       "  \"/>\n",
       "<polyline clip-path=\"url(#clip6401)\" style=\"stroke:#000000; stroke-width:4; stroke-opacity:1; fill:none\" points=\"\n",
       "  189.504,493.054 221.48,493.054 \n",
       "  \"/>\n",
       "<polyline clip-path=\"url(#clip6401)\" style=\"stroke:#000000; stroke-width:4; stroke-opacity:1; fill:none\" points=\"\n",
       "  189.504,164.97 221.48,164.97 \n",
       "  \"/>\n",
       "<g clip-path=\"url(#clip6401)\">\n",
       "<text style=\"fill:#000000; fill-opacity:1; font-family:Arial,Helvetica Neue,Helvetica,sans-serif; font-size:48px; text-anchor:middle;\" transform=\"rotate(0, 244.899, 1557.47)\" x=\"244.899\" y=\"1557.47\">-1.0</text>\n",
       "</g>\n",
       "<g clip-path=\"url(#clip6401)\">\n",
       "<text style=\"fill:#000000; fill-opacity:1; font-family:Arial,Helvetica Neue,Helvetica,sans-serif; font-size:48px; text-anchor:middle;\" transform=\"rotate(0, 750.513, 1557.47)\" x=\"750.513\" y=\"1557.47\">-0.5</text>\n",
       "</g>\n",
       "<g clip-path=\"url(#clip6401)\">\n",
       "<text style=\"fill:#000000; fill-opacity:1; font-family:Arial,Helvetica Neue,Helvetica,sans-serif; font-size:48px; text-anchor:middle;\" transform=\"rotate(0, 1256.13, 1557.47)\" x=\"1256.13\" y=\"1557.47\">0.0</text>\n",
       "</g>\n",
       "<g clip-path=\"url(#clip6401)\">\n",
       "<text style=\"fill:#000000; fill-opacity:1; font-family:Arial,Helvetica Neue,Helvetica,sans-serif; font-size:48px; text-anchor:middle;\" transform=\"rotate(0, 1761.74, 1557.47)\" x=\"1761.74\" y=\"1557.47\">0.5</text>\n",
       "</g>\n",
       "<g clip-path=\"url(#clip6401)\">\n",
       "<text style=\"fill:#000000; fill-opacity:1; font-family:Arial,Helvetica Neue,Helvetica,sans-serif; font-size:48px; text-anchor:middle;\" transform=\"rotate(0, 2267.35, 1557.47)\" x=\"2267.35\" y=\"1557.47\">1.0</text>\n",
       "</g>\n",
       "<g clip-path=\"url(#clip6401)\">\n",
       "<text style=\"fill:#000000; fill-opacity:1; font-family:Arial,Helvetica Neue,Helvetica,sans-serif; font-size:48px; text-anchor:end;\" transform=\"rotate(0, 165.504, 1494.81)\" x=\"165.504\" y=\"1494.81\">-1.0</text>\n",
       "</g>\n",
       "<g clip-path=\"url(#clip6401)\">\n",
       "<text style=\"fill:#000000; fill-opacity:1; font-family:Arial,Helvetica Neue,Helvetica,sans-serif; font-size:48px; text-anchor:end;\" transform=\"rotate(0, 165.504, 1166.72)\" x=\"165.504\" y=\"1166.72\">-0.5</text>\n",
       "</g>\n",
       "<g clip-path=\"url(#clip6401)\">\n",
       "<text style=\"fill:#000000; fill-opacity:1; font-family:Arial,Helvetica Neue,Helvetica,sans-serif; font-size:48px; text-anchor:end;\" transform=\"rotate(0, 165.504, 838.638)\" x=\"165.504\" y=\"838.638\">0.0</text>\n",
       "</g>\n",
       "<g clip-path=\"url(#clip6401)\">\n",
       "<text style=\"fill:#000000; fill-opacity:1; font-family:Arial,Helvetica Neue,Helvetica,sans-serif; font-size:48px; text-anchor:end;\" transform=\"rotate(0, 165.504, 510.554)\" x=\"165.504\" y=\"510.554\">0.5</text>\n",
       "</g>\n",
       "<g clip-path=\"url(#clip6401)\">\n",
       "<text style=\"fill:#000000; fill-opacity:1; font-family:Arial,Helvetica Neue,Helvetica,sans-serif; font-size:48px; text-anchor:end;\" transform=\"rotate(0, 165.504, 182.47)\" x=\"165.504\" y=\"182.47\">1.0</text>\n",
       "</g>\n",
       "<g clip-path=\"url(#clip6401)\">\n",
       "<text style=\"fill:#000000; fill-opacity:1; font-family:Arial,Helvetica Neue,Helvetica,sans-serif; font-size:84px; text-anchor:middle;\" transform=\"rotate(0, 1255.38, 73.2)\" x=\"1255.38\" y=\"73.2\">Legendre&apos;s polynomials</text>\n",
       "</g>\n",
       "<polyline clip-path=\"url(#clip6403)\" style=\"stroke:#009af9; stroke-width:4; stroke-opacity:1; fill:none\" points=\"\n",
       "  264.65,164.97 447.276,164.97 557.026,164.97 649.819,164.97 750.618,164.97 843.545,164.97 943.173,164.97 1058.6,164.97 1161.18,164.97 1251.14,164.97 \n",
       "  1349.21,164.97 1447.86,164.97 1556.94,164.97 1660.72,164.97 1768.64,164.97 1859.47,164.97 1970.38,164.97 2074.63,164.97 2241.65,164.97 \n",
       "  \"/>\n",
       "<polyline clip-path=\"url(#clip6403)\" style=\"stroke:#e26f46; stroke-width:4; stroke-opacity:1; fill:none\" points=\"\n",
       "  264.65,1464.49 447.276,1345.99 557.026,1274.77 649.819,1214.56 750.618,1149.15 843.545,1088.85 943.173,1024.21 1058.6,949.307 1161.18,882.745 1251.14,824.376 \n",
       "  1349.21,760.738 1447.86,696.722 1556.94,625.944 1660.72,558.6 1768.64,488.579 1859.47,429.635 1970.38,357.672 2074.63,290.025 2241.65,181.648 \n",
       "  \"/>\n",
       "<polyline clip-path=\"url(#clip6403)\" style=\"stroke:#3da44d; stroke-width:4; stroke-opacity:1; fill:none\" points=\"\n",
       "  249.837,174.558 254.775,184.1 259.712,193.595 264.65,203.042 310.306,288.177 355.963,369.299 401.619,446.408 447.276,519.505 502.151,602.051 557.026,678.8 \n",
       "  603.423,739.168 649.819,795.392 700.218,851.771 750.618,903.261 797.081,946.398 843.545,985.379 893.359,1022.55 943.173,1054.95 1000.89,1086.52 1058.6,1111.67 \n",
       "  1109.89,1128.64 1161.18,1140.54 1206.16,1146.82 1251.14,1149.2 1300.17,1147.35 1349.21,1140.88 1398.54,1129.7 1447.86,1113.84 1502.4,1090.84 1556.94,1062.12 \n",
       "  1608.83,1029.48 1660.72,991.657 1714.68,946.831 1768.64,896.4 1814.06,849.604 1859.47,798.837 1914.93,731.472 1970.38,658.188 2022.5,583.902 2074.63,504.385 \n",
       "  2116.38,436.915 2158.14,366.09 2199.89,291.908 2241.65,214.37 2248.08,202.139 2254.5,189.829 2260.93,177.439 \n",
       "  \"/>\n",
       "<polyline clip-path=\"url(#clip6403)\" style=\"stroke:#c271d2; stroke-width:4; stroke-opacity:1; fill:none\" points=\"\n",
       "  249.837,1458.2 254.775,1439.32 259.712,1420.68 264.65,1402.27 287.478,1320.13 310.306,1242.8 333.135,1170.16 355.963,1102.09 378.791,1038.49 401.619,979.244 \n",
       "  424.448,924.234 447.276,873.35 474.713,817.49 502.151,767.23 529.589,722.372 557.026,682.721 580.224,653.112 603.423,626.965 626.621,604.162 649.819,584.584 \n",
       "  675.019,566.831 700.218,552.591 725.418,541.711 750.618,534.039 773.85,529.676 797.081,527.791 820.313,528.264 843.545,530.976 868.452,536.234 893.359,543.782 \n",
       "  918.266,553.472 943.173,565.157 972.031,580.996 1000.89,599.086 1029.75,619.2 1058.6,641.109 1161.18,730.084 1251.14,816.28 1349.21,910.457 1447.86,996.579 \n",
       "  1475.13,1017.64 1502.4,1037.15 1529.67,1054.91 1556.94,1070.75 1582.89,1083.83 1608.83,1094.83 1634.78,1103.56 1660.72,1109.87 1687.7,1113.68 1714.68,1114.5 \n",
       "  1741.66,1112.14 1768.64,1106.42 1791.35,1098.86 1814.06,1088.67 1836.76,1075.74 1859.47,1059.96 1887.2,1036.67 1914.93,1008.77 1942.65,976.04 1970.38,938.29 \n",
       "  1996.44,898.042 2022.5,853.008 2048.57,803.018 2074.63,747.905 2095.51,699.947 2116.38,648.508 2137.26,593.499 2158.14,534.835 2179.02,472.428 2199.89,406.193 \n",
       "  2220.77,336.042 2241.65,261.889 2248.08,238.247 2254.5,214.214 2260.93,189.79 \n",
       "  \"/>\n",
       "<polyline clip-path=\"url(#clip6403)\" style=\"stroke:#ac8d18; stroke-width:4; stroke-opacity:1; fill:none\" points=\"\n",
       "  249.837,196.659 254.775,227.653 259.712,257.958 264.65,287.583 276.064,353.505 287.478,415.931 298.892,474.957 310.306,530.677 321.721,583.185 333.135,632.572 \n",
       "  344.549,678.929 355.963,722.347 367.377,762.914 378.791,800.717 390.205,835.844 401.619,868.379 413.033,898.408 424.448,926.012 435.862,951.275 447.276,974.277 \n",
       "  460.995,999.044 474.713,1020.8 488.432,1039.67 502.151,1055.79 515.87,1069.3 529.589,1080.31 543.307,1088.95 557.026,1095.35 580.224,1101.4 603.423,1101.94 \n",
       "  626.621,1097.52 649.819,1088.65 675.019,1074.59 700.218,1056.51 725.418,1035.03 750.618,1010.7 797.081,960.23 843.545,905.132 893.359,844.197 943.173,784.412 \n",
       "  1000.89,720.185 1058.6,664.779 1084.25,643.766 1109.89,625.276 1135.54,609.486 1161.18,596.543 1183.67,587.632 1206.16,581.065 1228.65,576.89 1251.14,575.135 \n",
       "  1275.65,575.992 1300.17,579.733 1324.69,586.326 1349.21,595.717 1373.87,607.908 1398.54,622.747 1423.2,640.104 1447.86,659.828 1502.4,710.922 1556.94,770.34 \n",
       "  1608.83,831.936 1660.72,895.416 1714.68,959.667 1768.64,1017.72 1791.35,1039.1 1814.06,1058.1 1836.76,1074.29 1859.47,1087.23 1887.2,1097.96 1914.93,1102.3 \n",
       "  1942.65,1099.35 1970.38,1088.16 1983.41,1079.77 1996.44,1069.24 2009.47,1056.47 2022.5,1041.33 2035.53,1023.73 2048.57,1003.54 2061.6,980.663 2074.63,954.969 \n",
       "  2085.07,932.279 2095.51,907.647 2105.95,881.009 2116.38,852.303 2126.82,821.466 2137.26,788.43 2147.7,753.132 2158.14,715.505 2168.58,675.482 2179.02,632.993 \n",
       "  2189.46,587.972 2199.89,540.348 2210.33,490.051 2220.77,437.009 2231.21,381.151 2241.65,322.405 2248.08,284.773 2254.5,246.002 2260.93,206.073 \n",
       "  \"/>\n",
       "<polyline clip-path=\"url(#clip6403)\" style=\"stroke:#00a9ad; stroke-width:4; stroke-opacity:1; fill:none\" points=\"\n",
       "  249.837,1430.06 254.775,1384.43 259.712,1340.37 264.65,1297.87 276.064,1205.37 287.478,1120.6 298.892,1043.2 310.306,972.819 321.721,909.105 333.135,851.724 \n",
       "  344.549,800.351 355.963,754.667 367.377,714.364 378.791,679.144 390.205,648.715 401.619,622.796 413.033,601.114 424.448,583.403 435.862,569.409 447.276,558.883 \n",
       "  460.995,550.483 474.713,546.345 488.432,546.086 502.151,549.337 515.87,555.747 529.589,564.978 543.307,576.709 557.026,590.635 580.224,618.366 603.423,650.23 \n",
       "  626.621,685.027 649.819,721.668 700.218,803.064 750.618,880.242 773.85,912.576 797.081,942.162 820.313,968.603 843.545,991.581 868.452,1012.09 893.359,1028.13 \n",
       "  918.266,1039.58 943.173,1046.38 972.031,1048.52 1000.89,1044.64 1029.75,1035.05 1058.6,1020.14 1084.25,1002.79 1109.89,982.018 1135.54,958.241 1161.18,931.937 \n",
       "  1206.16,881.239 1251.14,827.209 1300.17,768.023 1349.21,712.332 1373.87,686.834 1398.54,663.623 1423.2,643.124 1447.86,625.73 1475.13,610.544 1502.4,600.013 \n",
       "  1529.67,594.491 1556.94,594.251 1582.89,599.095 1608.83,608.964 1634.78,623.849 1660.72,643.645 1687.7,669.216 1714.68,699.522 1741.66,734.075 1768.64,772.247 \n",
       "  1814.06,842.444 1859.47,915.851 1887.2,959.67 1914.93,1000.75 1942.65,1037.2 1970.38,1066.9 1983.41,1077.87 1996.44,1086.56 2009.47,1092.71 2022.5,1096.02 \n",
       "  2035.53,1096.2 2048.57,1092.93 2061.6,1085.88 2074.63,1074.71 2085.07,1062.56 2095.51,1047.34 2105.95,1028.88 2116.38,1006.97 2126.82,981.392 2137.26,951.949 \n",
       "  2147.7,918.419 2158.14,880.577 2168.58,838.192 2179.02,791.029 2189.46,738.844 2199.89,681.388 2210.33,618.405 2220.77,549.633 2231.21,474.802 2241.65,393.636 \n",
       "  2248.08,340.4 2254.5,284.589 2260.93,226.135 \n",
       "  \"/>\n",
       "<polyline clip-path=\"url(#clip6403)\" style=\"stroke:#ed5d92; stroke-width:4; stroke-opacity:1; fill:none\" points=\"\n",
       "  249.837,230.627 254.775,293.094 259.712,352.465 264.65,408.831 270.357,470.354 276.064,528.12 281.771,582.263 287.478,632.912 293.185,680.197 298.892,724.241 \n",
       "  304.599,765.166 310.306,803.092 316.014,838.136 321.721,870.41 327.428,900.026 333.135,927.093 338.842,951.716 344.549,973.998 350.256,994.041 355.963,1011.94 \n",
       "  361.67,1027.8 367.377,1041.7 373.084,1053.74 378.791,1064.01 390.205,1079.57 401.619,1089.04 413.033,1093.05 424.448,1092.2 435.862,1087.04 447.276,1078.1 \n",
       "  460.995,1063.05 474.713,1044.05 488.432,1021.85 502.151,997.127 529.589,942.575 557.026,884.776 580.224,836.058 603.423,789.375 626.621,746.162 649.819,707.547 \n",
       "  662.419,688.812 675.019,671.792 687.618,656.569 700.218,643.206 712.818,631.748 725.418,622.223 738.018,614.641 750.618,608.997 773.85,603.605 797.081,604.506 \n",
       "  820.313,611.344 843.545,623.65 868.452,642.283 893.359,665.784 918.266,693.303 943.173,723.945 1000.89,801.839 1058.6,880.174 1084.25,912.34 1109.89,941.703 \n",
       "  1135.54,967.54 1161.18,989.228 1183.67,1004.42 1206.16,1015.75 1228.65,1023.02 1251.14,1026.09 1275.65,1024.59 1300.17,1018.07 1324.69,1006.67 1349.21,990.626 \n",
       "  1373.87,970.159 1398.54,945.795 1423.2,918.078 1447.86,887.635 1502.4,814.253 1556.94,739.732 1582.89,706.626 1608.83,676.464 1634.78,650.276 1660.72,629.042 \n",
       "  1687.7,613.195 1714.68,604.591 1728.17,603.245 1741.66,603.975 1755.15,606.843 1768.64,611.895 1791.35,625.41 1814.06,645.222 1836.76,671.192 1859.47,702.998 \n",
       "  1887.2,748.95 1914.93,801.359 1942.65,858.215 1970.38,916.863 1996.44,970.627 2022.5,1019.58 2035.53,1040.99 2048.57,1059.61 2061.6,1074.8 2074.63,1085.89 \n",
       "  2085.07,1091.34 2095.51,1093.28 2105.95,1091.31 2116.38,1084.99 2126.82,1073.83 2137.26,1057.36 2147.7,1035.05 2158.14,1006.37 2163.36,989.454 2168.58,970.731 \n",
       "  2173.8,950.121 2179.02,927.548 2184.24,902.932 2189.46,876.193 2194.68,847.249 2199.89,816.014 2205.11,782.402 2210.33,746.325 2215.55,707.694 2220.77,666.415 \n",
       "  2225.99,622.395 2231.21,575.537 2236.43,525.745 2241.65,472.917 2248.08,403.557 2254.5,329.247 2260.93,249.786 \n",
       "  \"/>\n",
       "<polygon clip-path=\"url(#clip6401)\" points=\"\n",
       "1958.43,693.344 2249.26,693.344 2249.26,209.504 1958.43,209.504 \n",
       "  \" fill=\"#ffffff\" fill-rule=\"evenodd\" fill-opacity=\"1\"/>\n",
       "<polyline clip-path=\"url(#clip6401)\" style=\"stroke:#000000; stroke-width:4; stroke-opacity:1; fill:none\" points=\"\n",
       "  1958.43,693.344 2249.26,693.344 2249.26,209.504 1958.43,209.504 1958.43,693.344 \n",
       "  \"/>\n",
       "<polyline clip-path=\"url(#clip6401)\" style=\"stroke:#009af9; stroke-width:4; stroke-opacity:1; fill:none\" points=\"\n",
       "  1982.43,269.984 2126.43,269.984 \n",
       "  \"/>\n",
       "<g clip-path=\"url(#clip6401)\">\n",
       "<text style=\"fill:#000000; fill-opacity:1; font-family:Arial,Helvetica Neue,Helvetica,sans-serif; font-size:48px; text-anchor:start;\" transform=\"rotate(0, 2150.43, 287.484)\" x=\"2150.43\" y=\"287.484\">y1</text>\n",
       "</g>\n",
       "<polyline clip-path=\"url(#clip6401)\" style=\"stroke:#e26f46; stroke-width:4; stroke-opacity:1; fill:none\" points=\"\n",
       "  1982.43,330.464 2126.43,330.464 \n",
       "  \"/>\n",
       "<g clip-path=\"url(#clip6401)\">\n",
       "<text style=\"fill:#000000; fill-opacity:1; font-family:Arial,Helvetica Neue,Helvetica,sans-serif; font-size:48px; text-anchor:start;\" transform=\"rotate(0, 2150.43, 347.964)\" x=\"2150.43\" y=\"347.964\">y2</text>\n",
       "</g>\n",
       "<polyline clip-path=\"url(#clip6401)\" style=\"stroke:#3da44d; stroke-width:4; stroke-opacity:1; fill:none\" points=\"\n",
       "  1982.43,390.944 2126.43,390.944 \n",
       "  \"/>\n",
       "<g clip-path=\"url(#clip6401)\">\n",
       "<text style=\"fill:#000000; fill-opacity:1; font-family:Arial,Helvetica Neue,Helvetica,sans-serif; font-size:48px; text-anchor:start;\" transform=\"rotate(0, 2150.43, 408.444)\" x=\"2150.43\" y=\"408.444\">y3</text>\n",
       "</g>\n",
       "<polyline clip-path=\"url(#clip6401)\" style=\"stroke:#c271d2; stroke-width:4; stroke-opacity:1; fill:none\" points=\"\n",
       "  1982.43,451.424 2126.43,451.424 \n",
       "  \"/>\n",
       "<g clip-path=\"url(#clip6401)\">\n",
       "<text style=\"fill:#000000; fill-opacity:1; font-family:Arial,Helvetica Neue,Helvetica,sans-serif; font-size:48px; text-anchor:start;\" transform=\"rotate(0, 2150.43, 468.924)\" x=\"2150.43\" y=\"468.924\">y4</text>\n",
       "</g>\n",
       "<polyline clip-path=\"url(#clip6401)\" style=\"stroke:#ac8d18; stroke-width:4; stroke-opacity:1; fill:none\" points=\"\n",
       "  1982.43,511.904 2126.43,511.904 \n",
       "  \"/>\n",
       "<g clip-path=\"url(#clip6401)\">\n",
       "<text style=\"fill:#000000; fill-opacity:1; font-family:Arial,Helvetica Neue,Helvetica,sans-serif; font-size:48px; text-anchor:start;\" transform=\"rotate(0, 2150.43, 529.404)\" x=\"2150.43\" y=\"529.404\">y5</text>\n",
       "</g>\n",
       "<polyline clip-path=\"url(#clip6401)\" style=\"stroke:#00a9ad; stroke-width:4; stroke-opacity:1; fill:none\" points=\"\n",
       "  1982.43,572.384 2126.43,572.384 \n",
       "  \"/>\n",
       "<g clip-path=\"url(#clip6401)\">\n",
       "<text style=\"fill:#000000; fill-opacity:1; font-family:Arial,Helvetica Neue,Helvetica,sans-serif; font-size:48px; text-anchor:start;\" transform=\"rotate(0, 2150.43, 589.884)\" x=\"2150.43\" y=\"589.884\">y6</text>\n",
       "</g>\n",
       "<polyline clip-path=\"url(#clip6401)\" style=\"stroke:#ed5d92; stroke-width:4; stroke-opacity:1; fill:none\" points=\"\n",
       "  1982.43,632.864 2126.43,632.864 \n",
       "  \"/>\n",
       "<g clip-path=\"url(#clip6401)\">\n",
       "<text style=\"fill:#000000; fill-opacity:1; font-family:Arial,Helvetica Neue,Helvetica,sans-serif; font-size:48px; text-anchor:start;\" transform=\"rotate(0, 2150.43, 650.364)\" x=\"2150.43\" y=\"650.364\">y7</text>\n",
       "</g>\n",
       "</svg>\n"
      ]
     },
     "execution_count": 270,
     "metadata": {},
     "output_type": "execute_result"
    }
   ],
   "source": [
    "plot(x->p(0)(x),-1,1)\n",
    "plot!(x->p(1)(x),-1,1)\n",
    "plot!(x->p(2)(x),-1,1)\n",
    "plot!(x->p(3)(x),-1,1)\n",
    "plot!(x->p(4)(x),-1,1)\n",
    "plot!(x->p(5)(x),-1,1)\n",
    "plot!(x->p(6)(x),-1,1,title = \"Legendre's polynomials\")"
   ]
  },
  {
   "cell_type": "code",
   "execution_count": 56,
   "metadata": {},
   "outputs": [
    {
     "data": {
      "text/plain": [
       "9×2 Array{Float64,2}:\n",
       " -0.57735   -0.57735 \n",
       "  0.57735    0.57735 \n",
       " -0.774597  -0.774597\n",
       "  0.0        0.0     \n",
       "  0.774597   0.774597\n",
       " -0.861136  -0.861136\n",
       " -0.339981  -0.339981\n",
       "  0.339981   0.339981\n",
       "  0.861136   0.861136"
      ]
     },
     "execution_count": 56,
     "metadata": {},
     "output_type": "execute_result"
    }
   ],
   "source": [
    "hcat(\n",
    "    vcat(sort(roots(p(2))),sort(roots(p(3))),sort(roots(p(4)))),\n",
    "    vcat(gauss(Float64,2)[1],gauss(Float64,3)[1],gauss(Float64,4)[1])\n",
    ")"
   ]
  },
  {
   "cell_type": "markdown",
   "metadata": {},
   "source": [
    "### Zadanie 2\n",
    "- napisz funkcję, która dla podanej liczby punktów Gaussa $k$ oraz funkcji $f$ policzy $\\int_{-1}^{1} f dx$ metodą używającą funkcji: \n",
    "$gauss(k) $\n",
    "oraz sumy\n",
    "$sum(a .* f.(xp))$\n",
    "- przetestuj dla wielomianów coraz większych stopni\n",
    "- sprawdz kiedy przestaje być dokładna,\n",
    "- podaj związek z twierdzeniem o stopniu dokładności kwadratury Gaussa"
   ]
  },
  {
   "cell_type": "code",
   "execution_count": 126,
   "metadata": {},
   "outputs": [
    {
     "data": {
      "text/plain": [
       "integral (generic function with 2 methods)"
      ]
     },
     "execution_count": 126,
     "metadata": {},
     "output_type": "execute_result"
    }
   ],
   "source": [
    "function integral(f,k)\n",
    "    (xp,a)=gauss(Float64,k)\n",
    "    sum(a .* f.(xp))   \n",
    "end"
   ]
  },
  {
   "cell_type": "code",
   "execution_count": 148,
   "metadata": {
    "scrolled": true
   },
   "outputs": [
    {
     "data": {
      "text/plain": [
       "f (generic function with 1 method)"
      ]
     },
     "execution_count": 148,
     "metadata": {},
     "output_type": "execute_result"
    }
   ],
   "source": [
    "f(x) = 12.1x^20 - 16x^19 +15x^18 - 2x^17 + 19x^16 - 37*x^15 + 2x^14 - 17x^13 + 3x^12 + \n",
    "5x^11 + 12x^10 - 16x^9 +15x^8 - 2x^7 + 19x^6 - 37*x^5 + 2x^4 - 17x^3 + 3x^2 + 5x + 57"
   ]
  },
  {
   "cell_type": "code",
   "execution_count": 130,
   "metadata": {
    "scrolled": false
   },
   "outputs": [
    {
     "data": {
      "text/plain": [
       "20-element Array{Float64,1}:\n",
       " 114.0             \n",
       " 118.33877288353737\n",
       " 125.37836861439999\n",
       " 130.1185139435939 \n",
       " 132.2535500892144 \n",
       " 133.10284183442332\n",
       " 133.36890683931023\n",
       " 133.4287667122977 \n",
       " 133.43770638136638\n",
       " 133.43851511073413\n",
       " 133.43855051037715\n",
       " 133.43855051037715\n",
       " 133.43855051037713\n",
       " 133.4385505103772 \n",
       " 133.43855051037713\n",
       " 133.43855051037715\n",
       " 133.43855051037713\n",
       " 133.43855051037715\n",
       " 133.43855051037718\n",
       " 133.43855051037718"
      ]
     },
     "execution_count": 130,
     "metadata": {},
     "output_type": "execute_result"
    }
   ],
   "source": [
    "gauusIntegrals = [integral(f,d) for d in 1:20]"
   ]
  },
  {
   "cell_type": "code",
   "execution_count": 131,
   "metadata": {
    "scrolled": true
   },
   "outputs": [
    {
     "data": {
      "text/plain": [
       "133.43855051037715"
      ]
     },
     "execution_count": 131,
     "metadata": {},
     "output_type": "execute_result"
    }
   ],
   "source": [
    "quadgkIntegral = quadgk(f, -1, 1)[1]"
   ]
  },
  {
   "cell_type": "code",
   "execution_count": 274,
   "metadata": {
    "scrolled": false
   },
   "outputs": [
    {
     "data": {
      "image/svg+xml": [
       "<?xml version=\"1.0\" encoding=\"utf-8\"?>\n",
       "<svg xmlns=\"http://www.w3.org/2000/svg\" xmlns:xlink=\"http://www.w3.org/1999/xlink\" width=\"600\" height=\"400\" viewBox=\"0 0 2400 1600\">\n",
       "<defs>\n",
       "  <clipPath id=\"clip6800\">\n",
       "    <rect x=\"0\" y=\"0\" width=\"2000\" height=\"2000\"/>\n",
       "  </clipPath>\n",
       "</defs>\n",
       "<defs>\n",
       "  <clipPath id=\"clip6801\">\n",
       "    <rect x=\"0\" y=\"0\" width=\"2400\" height=\"1600\"/>\n",
       "  </clipPath>\n",
       "</defs>\n",
       "<polygon clip-path=\"url(#clip6801)\" points=\"\n",
       "0,1600 2400,1600 2400,0 0,0 \n",
       "  \" fill=\"#ffffff\" fill-rule=\"evenodd\" fill-opacity=\"1\"/>\n",
       "<defs>\n",
       "  <clipPath id=\"clip6802\">\n",
       "    <rect x=\"480\" y=\"0\" width=\"1681\" height=\"1600\"/>\n",
       "  </clipPath>\n",
       "</defs>\n",
       "<polygon clip-path=\"url(#clip6801)\" points=\"\n",
       "174.775,1503.47 2321.26,1503.47 2321.26,47.2441 174.775,47.2441 \n",
       "  \" fill=\"#ffffff\" fill-rule=\"evenodd\" fill-opacity=\"1\"/>\n",
       "<defs>\n",
       "  <clipPath id=\"clip6803\">\n",
       "    <rect x=\"174\" y=\"47\" width=\"2147\" height=\"1457\"/>\n",
       "  </clipPath>\n",
       "</defs>\n",
       "<polyline clip-path=\"url(#clip6803)\" style=\"stroke:#000000; stroke-width:2; stroke-opacity:0.1; fill:none\" points=\"\n",
       "  661.838,1503.47 661.838,47.2441 \n",
       "  \"/>\n",
       "<polyline clip-path=\"url(#clip6803)\" style=\"stroke:#000000; stroke-width:2; stroke-opacity:0.1; fill:none\" points=\"\n",
       "  1194.73,1503.47 1194.73,47.2441 \n",
       "  \"/>\n",
       "<polyline clip-path=\"url(#clip6803)\" style=\"stroke:#000000; stroke-width:2; stroke-opacity:0.1; fill:none\" points=\"\n",
       "  1727.62,1503.47 1727.62,47.2441 \n",
       "  \"/>\n",
       "<polyline clip-path=\"url(#clip6803)\" style=\"stroke:#000000; stroke-width:2; stroke-opacity:0.1; fill:none\" points=\"\n",
       "  2260.51,1503.47 2260.51,47.2441 \n",
       "  \"/>\n",
       "<polyline clip-path=\"url(#clip6803)\" style=\"stroke:#000000; stroke-width:2; stroke-opacity:0.1; fill:none\" points=\"\n",
       "  174.775,1391.59 2321.26,1391.59 \n",
       "  \"/>\n",
       "<polyline clip-path=\"url(#clip6803)\" style=\"stroke:#000000; stroke-width:2; stroke-opacity:0.1; fill:none\" points=\"\n",
       "  174.775,1038.22 2321.26,1038.22 \n",
       "  \"/>\n",
       "<polyline clip-path=\"url(#clip6803)\" style=\"stroke:#000000; stroke-width:2; stroke-opacity:0.1; fill:none\" points=\"\n",
       "  174.775,684.845 2321.26,684.845 \n",
       "  \"/>\n",
       "<polyline clip-path=\"url(#clip6803)\" style=\"stroke:#000000; stroke-width:2; stroke-opacity:0.1; fill:none\" points=\"\n",
       "  174.775,331.475 2321.26,331.475 \n",
       "  \"/>\n",
       "<polyline clip-path=\"url(#clip6801)\" style=\"stroke:#000000; stroke-width:4; stroke-opacity:1; fill:none\" points=\"\n",
       "  174.775,1503.47 2321.26,1503.47 \n",
       "  \"/>\n",
       "<polyline clip-path=\"url(#clip6801)\" style=\"stroke:#000000; stroke-width:4; stroke-opacity:1; fill:none\" points=\"\n",
       "  174.775,1503.47 174.775,47.2441 \n",
       "  \"/>\n",
       "<polyline clip-path=\"url(#clip6801)\" style=\"stroke:#000000; stroke-width:4; stroke-opacity:1; fill:none\" points=\"\n",
       "  661.838,1503.47 661.838,1481.63 \n",
       "  \"/>\n",
       "<polyline clip-path=\"url(#clip6801)\" style=\"stroke:#000000; stroke-width:4; stroke-opacity:1; fill:none\" points=\"\n",
       "  1194.73,1503.47 1194.73,1481.63 \n",
       "  \"/>\n",
       "<polyline clip-path=\"url(#clip6801)\" style=\"stroke:#000000; stroke-width:4; stroke-opacity:1; fill:none\" points=\"\n",
       "  1727.62,1503.47 1727.62,1481.63 \n",
       "  \"/>\n",
       "<polyline clip-path=\"url(#clip6801)\" style=\"stroke:#000000; stroke-width:4; stroke-opacity:1; fill:none\" points=\"\n",
       "  2260.51,1503.47 2260.51,1481.63 \n",
       "  \"/>\n",
       "<polyline clip-path=\"url(#clip6801)\" style=\"stroke:#000000; stroke-width:4; stroke-opacity:1; fill:none\" points=\"\n",
       "  174.775,1391.59 206.972,1391.59 \n",
       "  \"/>\n",
       "<polyline clip-path=\"url(#clip6801)\" style=\"stroke:#000000; stroke-width:4; stroke-opacity:1; fill:none\" points=\"\n",
       "  174.775,1038.22 206.972,1038.22 \n",
       "  \"/>\n",
       "<polyline clip-path=\"url(#clip6801)\" style=\"stroke:#000000; stroke-width:4; stroke-opacity:1; fill:none\" points=\"\n",
       "  174.775,684.845 206.972,684.845 \n",
       "  \"/>\n",
       "<polyline clip-path=\"url(#clip6801)\" style=\"stroke:#000000; stroke-width:4; stroke-opacity:1; fill:none\" points=\"\n",
       "  174.775,331.475 206.972,331.475 \n",
       "  \"/>\n",
       "<g clip-path=\"url(#clip6801)\">\n",
       "<text style=\"fill:#000000; fill-opacity:1; font-family:Arial,Helvetica Neue,Helvetica,sans-serif; font-size:48px; text-anchor:middle;\" transform=\"rotate(0, 661.838, 1557.47)\" x=\"661.838\" y=\"1557.47\">5</text>\n",
       "</g>\n",
       "<g clip-path=\"url(#clip6801)\">\n",
       "<text style=\"fill:#000000; fill-opacity:1; font-family:Arial,Helvetica Neue,Helvetica,sans-serif; font-size:48px; text-anchor:middle;\" transform=\"rotate(0, 1194.73, 1557.47)\" x=\"1194.73\" y=\"1557.47\">10</text>\n",
       "</g>\n",
       "<g clip-path=\"url(#clip6801)\">\n",
       "<text style=\"fill:#000000; fill-opacity:1; font-family:Arial,Helvetica Neue,Helvetica,sans-serif; font-size:48px; text-anchor:middle;\" transform=\"rotate(0, 1727.62, 1557.47)\" x=\"1727.62\" y=\"1557.47\">15</text>\n",
       "</g>\n",
       "<g clip-path=\"url(#clip6801)\">\n",
       "<text style=\"fill:#000000; fill-opacity:1; font-family:Arial,Helvetica Neue,Helvetica,sans-serif; font-size:48px; text-anchor:middle;\" transform=\"rotate(0, 2260.51, 1557.47)\" x=\"2260.51\" y=\"1557.47\">20</text>\n",
       "</g>\n",
       "<g clip-path=\"url(#clip6801)\">\n",
       "<text style=\"fill:#000000; fill-opacity:1; font-family:Arial,Helvetica Neue,Helvetica,sans-serif; font-size:48px; text-anchor:end;\" transform=\"rotate(0, 150.775, 1409.09)\" x=\"150.775\" y=\"1409.09\">115</text>\n",
       "</g>\n",
       "<g clip-path=\"url(#clip6801)\">\n",
       "<text style=\"fill:#000000; fill-opacity:1; font-family:Arial,Helvetica Neue,Helvetica,sans-serif; font-size:48px; text-anchor:end;\" transform=\"rotate(0, 150.775, 1055.72)\" x=\"150.775\" y=\"1055.72\">120</text>\n",
       "</g>\n",
       "<g clip-path=\"url(#clip6801)\">\n",
       "<text style=\"fill:#000000; fill-opacity:1; font-family:Arial,Helvetica Neue,Helvetica,sans-serif; font-size:48px; text-anchor:end;\" transform=\"rotate(0, 150.775, 702.345)\" x=\"150.775\" y=\"702.345\">125</text>\n",
       "</g>\n",
       "<g clip-path=\"url(#clip6801)\">\n",
       "<text style=\"fill:#000000; fill-opacity:1; font-family:Arial,Helvetica Neue,Helvetica,sans-serif; font-size:48px; text-anchor:end;\" transform=\"rotate(0, 150.775, 348.975)\" x=\"150.775\" y=\"348.975\">130</text>\n",
       "</g>\n",
       "<polyline clip-path=\"url(#clip6803)\" style=\"stroke:#009af9; stroke-width:4; stroke-opacity:1; fill:none\" points=\"\n",
       "  235.525,1462.26 342.103,1155.62 448.681,658.104 555.259,323.099 661.838,172.207 768.416,112.184 874.994,93.3802 981.572,89.1496 1088.15,88.5178 1194.73,88.4607 \n",
       "  1301.31,88.4582 1407.88,88.4582 1514.46,88.4582 1621.04,88.4582 1727.62,88.4582 1834.2,88.4582 1940.78,88.4582 2047.35,88.4582 2153.93,88.4582 2260.51,88.4582 \n",
       "  \n",
       "  \"/>\n",
       "<polyline clip-path=\"url(#clip6803)\" style=\"stroke:#e26f46; stroke-width:4; stroke-opacity:1; fill:none\" points=\"\n",
       "  255.3,88.4582 438.155,88.4582 548.043,88.4582 640.951,88.4582 741.876,88.4582 834.92,88.4582 934.673,88.4582 1050.25,88.4582 1152.95,88.4582 1243.02,88.4582 \n",
       "  1341.22,88.4582 1440,88.4582 1549.21,88.4582 1653.12,88.4582 1761.17,88.4582 1852.12,88.4582 1963.16,88.4582 2067.55,88.4582 2234.77,88.4582 \n",
       "  \"/>\n",
       "<polygon clip-path=\"url(#clip6801)\" points=\"\n",
       "1851.38,312.204 2249.26,312.204 2249.26,130.764 1851.38,130.764 \n",
       "  \" fill=\"#ffffff\" fill-rule=\"evenodd\" fill-opacity=\"1\"/>\n",
       "<polyline clip-path=\"url(#clip6801)\" style=\"stroke:#000000; stroke-width:4; stroke-opacity:1; fill:none\" points=\"\n",
       "  1851.38,312.204 2249.26,312.204 2249.26,130.764 1851.38,130.764 1851.38,312.204 \n",
       "  \"/>\n",
       "<polyline clip-path=\"url(#clip6801)\" style=\"stroke:#009af9; stroke-width:4; stroke-opacity:1; fill:none\" points=\"\n",
       "  1875.38,191.244 2019.38,191.244 \n",
       "  \"/>\n",
       "<g clip-path=\"url(#clip6801)\">\n",
       "<text style=\"fill:#000000; fill-opacity:1; font-family:Arial,Helvetica Neue,Helvetica,sans-serif; font-size:48px; text-anchor:start;\" transform=\"rotate(0, 2043.38, 208.744)\" x=\"2043.38\" y=\"208.744\">gauss</text>\n",
       "</g>\n",
       "<polyline clip-path=\"url(#clip6801)\" style=\"stroke:#e26f46; stroke-width:4; stroke-opacity:1; fill:none\" points=\"\n",
       "  1875.38,251.724 2019.38,251.724 \n",
       "  \"/>\n",
       "<g clip-path=\"url(#clip6801)\">\n",
       "<text style=\"fill:#000000; fill-opacity:1; font-family:Arial,Helvetica Neue,Helvetica,sans-serif; font-size:48px; text-anchor:start;\" transform=\"rotate(0, 2043.38, 269.224)\" x=\"2043.38\" y=\"269.224\">quadgk</text>\n",
       "</g>\n",
       "</svg>\n"
      ]
     },
     "execution_count": 274,
     "metadata": {},
     "output_type": "execute_result"
    }
   ],
   "source": [
    "plot(1:20,gauusIntegrals,label=\"gauss\")\n",
    "plot!(x->quadgkIntegral,1,20,label=\"quadgk\")\n"
   ]
  },
  {
   "cell_type": "code",
   "execution_count": 276,
   "metadata": {
    "scrolled": false
   },
   "outputs": [
    {
     "data": {
      "image/svg+xml": [
       "<?xml version=\"1.0\" encoding=\"utf-8\"?>\n",
       "<svg xmlns=\"http://www.w3.org/2000/svg\" xmlns:xlink=\"http://www.w3.org/1999/xlink\" width=\"600\" height=\"400\" viewBox=\"0 0 2400 1600\">\n",
       "<defs>\n",
       "  <clipPath id=\"clip7000\">\n",
       "    <rect x=\"0\" y=\"0\" width=\"2000\" height=\"2000\"/>\n",
       "  </clipPath>\n",
       "</defs>\n",
       "<defs>\n",
       "  <clipPath id=\"clip7001\">\n",
       "    <rect x=\"0\" y=\"0\" width=\"2400\" height=\"1600\"/>\n",
       "  </clipPath>\n",
       "</defs>\n",
       "<polygon clip-path=\"url(#clip7001)\" points=\"\n",
       "0,1600 2400,1600 2400,0 0,0 \n",
       "  \" fill=\"#ffffff\" fill-rule=\"evenodd\" fill-opacity=\"1\"/>\n",
       "<defs>\n",
       "  <clipPath id=\"clip7002\">\n",
       "    <rect x=\"480\" y=\"0\" width=\"1681\" height=\"1600\"/>\n",
       "  </clipPath>\n",
       "</defs>\n",
       "<polygon clip-path=\"url(#clip7001)\" points=\"\n",
       "358.198,1440.48 2321.26,1440.48 2321.26,125.984 358.198,125.984 \n",
       "  \" fill=\"#ffffff\" fill-rule=\"evenodd\" fill-opacity=\"1\"/>\n",
       "<defs>\n",
       "  <clipPath id=\"clip7003\">\n",
       "    <rect x=\"358\" y=\"125\" width=\"1964\" height=\"1315\"/>\n",
       "  </clipPath>\n",
       "</defs>\n",
       "<polyline clip-path=\"url(#clip7003)\" style=\"stroke:#000000; stroke-width:2; stroke-opacity:0.1; fill:none\" points=\"\n",
       "  582.115,1440.48 582.115,125.984 \n",
       "  \"/>\n",
       "<polyline clip-path=\"url(#clip7003)\" style=\"stroke:#000000; stroke-width:2; stroke-opacity:0.1; fill:none\" points=\"\n",
       "  1003.01,1440.48 1003.01,125.984 \n",
       "  \"/>\n",
       "<polyline clip-path=\"url(#clip7003)\" style=\"stroke:#000000; stroke-width:2; stroke-opacity:0.1; fill:none\" points=\"\n",
       "  1423.91,1440.48 1423.91,125.984 \n",
       "  \"/>\n",
       "<polyline clip-path=\"url(#clip7003)\" style=\"stroke:#000000; stroke-width:2; stroke-opacity:0.1; fill:none\" points=\"\n",
       "  1844.8,1440.48 1844.8,125.984 \n",
       "  \"/>\n",
       "<polyline clip-path=\"url(#clip7003)\" style=\"stroke:#000000; stroke-width:2; stroke-opacity:0.1; fill:none\" points=\"\n",
       "  2265.7,1440.48 2265.7,125.984 \n",
       "  \"/>\n",
       "<polyline clip-path=\"url(#clip7003)\" style=\"stroke:#000000; stroke-width:2; stroke-opacity:0.1; fill:none\" points=\"\n",
       "  358.198,1265.75 2321.26,1265.75 \n",
       "  \"/>\n",
       "<polyline clip-path=\"url(#clip7003)\" style=\"stroke:#000000; stroke-width:2; stroke-opacity:0.1; fill:none\" points=\"\n",
       "  358.198,971.931 2321.26,971.931 \n",
       "  \"/>\n",
       "<polyline clip-path=\"url(#clip7003)\" style=\"stroke:#000000; stroke-width:2; stroke-opacity:0.1; fill:none\" points=\"\n",
       "  358.198,678.115 2321.26,678.115 \n",
       "  \"/>\n",
       "<polyline clip-path=\"url(#clip7003)\" style=\"stroke:#000000; stroke-width:2; stroke-opacity:0.1; fill:none\" points=\"\n",
       "  358.198,384.299 2321.26,384.299 \n",
       "  \"/>\n",
       "<polyline clip-path=\"url(#clip7001)\" style=\"stroke:#000000; stroke-width:4; stroke-opacity:1; fill:none\" points=\"\n",
       "  358.198,1440.48 2321.26,1440.48 \n",
       "  \"/>\n",
       "<polyline clip-path=\"url(#clip7001)\" style=\"stroke:#000000; stroke-width:4; stroke-opacity:1; fill:none\" points=\"\n",
       "  358.198,1440.48 358.198,125.984 \n",
       "  \"/>\n",
       "<polyline clip-path=\"url(#clip7001)\" style=\"stroke:#000000; stroke-width:4; stroke-opacity:1; fill:none\" points=\"\n",
       "  582.115,1440.48 582.115,1420.77 \n",
       "  \"/>\n",
       "<polyline clip-path=\"url(#clip7001)\" style=\"stroke:#000000; stroke-width:4; stroke-opacity:1; fill:none\" points=\"\n",
       "  1003.01,1440.48 1003.01,1420.77 \n",
       "  \"/>\n",
       "<polyline clip-path=\"url(#clip7001)\" style=\"stroke:#000000; stroke-width:4; stroke-opacity:1; fill:none\" points=\"\n",
       "  1423.91,1440.48 1423.91,1420.77 \n",
       "  \"/>\n",
       "<polyline clip-path=\"url(#clip7001)\" style=\"stroke:#000000; stroke-width:4; stroke-opacity:1; fill:none\" points=\"\n",
       "  1844.8,1440.48 1844.8,1420.77 \n",
       "  \"/>\n",
       "<polyline clip-path=\"url(#clip7001)\" style=\"stroke:#000000; stroke-width:4; stroke-opacity:1; fill:none\" points=\"\n",
       "  2265.7,1440.48 2265.7,1420.77 \n",
       "  \"/>\n",
       "<polyline clip-path=\"url(#clip7001)\" style=\"stroke:#000000; stroke-width:4; stroke-opacity:1; fill:none\" points=\"\n",
       "  358.198,1265.75 387.644,1265.75 \n",
       "  \"/>\n",
       "<polyline clip-path=\"url(#clip7001)\" style=\"stroke:#000000; stroke-width:4; stroke-opacity:1; fill:none\" points=\"\n",
       "  358.198,971.931 387.644,971.931 \n",
       "  \"/>\n",
       "<polyline clip-path=\"url(#clip7001)\" style=\"stroke:#000000; stroke-width:4; stroke-opacity:1; fill:none\" points=\"\n",
       "  358.198,678.115 387.644,678.115 \n",
       "  \"/>\n",
       "<polyline clip-path=\"url(#clip7001)\" style=\"stroke:#000000; stroke-width:4; stroke-opacity:1; fill:none\" points=\"\n",
       "  358.198,384.299 387.644,384.299 \n",
       "  \"/>\n",
       "<g clip-path=\"url(#clip7001)\">\n",
       "<text style=\"fill:#000000; fill-opacity:1; font-family:Arial,Helvetica Neue,Helvetica,sans-serif; font-size:48px; text-anchor:middle;\" transform=\"rotate(0, 582.115, 1494.48)\" x=\"582.115\" y=\"1494.48\">10.0</text>\n",
       "</g>\n",
       "<g clip-path=\"url(#clip7001)\">\n",
       "<text style=\"fill:#000000; fill-opacity:1; font-family:Arial,Helvetica Neue,Helvetica,sans-serif; font-size:48px; text-anchor:middle;\" transform=\"rotate(0, 1003.01, 1494.48)\" x=\"1003.01\" y=\"1494.48\">12.5</text>\n",
       "</g>\n",
       "<g clip-path=\"url(#clip7001)\">\n",
       "<text style=\"fill:#000000; fill-opacity:1; font-family:Arial,Helvetica Neue,Helvetica,sans-serif; font-size:48px; text-anchor:middle;\" transform=\"rotate(0, 1423.91, 1494.48)\" x=\"1423.91\" y=\"1494.48\">15.0</text>\n",
       "</g>\n",
       "<g clip-path=\"url(#clip7001)\">\n",
       "<text style=\"fill:#000000; fill-opacity:1; font-family:Arial,Helvetica Neue,Helvetica,sans-serif; font-size:48px; text-anchor:middle;\" transform=\"rotate(0, 1844.8, 1494.48)\" x=\"1844.8\" y=\"1494.48\">17.5</text>\n",
       "</g>\n",
       "<g clip-path=\"url(#clip7001)\">\n",
       "<text style=\"fill:#000000; fill-opacity:1; font-family:Arial,Helvetica Neue,Helvetica,sans-serif; font-size:48px; text-anchor:middle;\" transform=\"rotate(0, 2265.7, 1494.48)\" x=\"2265.7\" y=\"1494.48\">20.0</text>\n",
       "</g>\n",
       "<g clip-path=\"url(#clip7001)\">\n",
       "<text style=\"fill:#000000; fill-opacity:1; font-family:Arial,Helvetica Neue,Helvetica,sans-serif; font-size:48px; text-anchor:end;\" transform=\"rotate(0, 334.198, 1283.25)\" x=\"334.198\" y=\"1283.25\">133.4378</text>\n",
       "</g>\n",
       "<g clip-path=\"url(#clip7001)\">\n",
       "<text style=\"fill:#000000; fill-opacity:1; font-family:Arial,Helvetica Neue,Helvetica,sans-serif; font-size:48px; text-anchor:end;\" transform=\"rotate(0, 334.198, 989.431)\" x=\"334.198\" y=\"989.431\">133.4380</text>\n",
       "</g>\n",
       "<g clip-path=\"url(#clip7001)\">\n",
       "<text style=\"fill:#000000; fill-opacity:1; font-family:Arial,Helvetica Neue,Helvetica,sans-serif; font-size:48px; text-anchor:end;\" transform=\"rotate(0, 334.198, 695.615)\" x=\"334.198\" y=\"695.615\">133.4382</text>\n",
       "</g>\n",
       "<g clip-path=\"url(#clip7001)\">\n",
       "<text style=\"fill:#000000; fill-opacity:1; font-family:Arial,Helvetica Neue,Helvetica,sans-serif; font-size:48px; text-anchor:end;\" transform=\"rotate(0, 334.198, 401.799)\" x=\"334.198\" y=\"401.799\">133.4384</text>\n",
       "</g>\n",
       "<g clip-path=\"url(#clip7001)\">\n",
       "<text style=\"fill:#000000; fill-opacity:1; font-family:Arial,Helvetica Neue,Helvetica,sans-serif; font-size:84px; text-anchor:middle;\" transform=\"rotate(0, 1339.73, 73.2)\" x=\"1339.73\" y=\"73.2\">f(x) integral</text>\n",
       "</g>\n",
       "<g clip-path=\"url(#clip7001)\">\n",
       "<text style=\"fill:#000000; fill-opacity:1; font-family:Arial,Helvetica Neue,Helvetica,sans-serif; font-size:66px; text-anchor:middle;\" transform=\"rotate(0, 1339.73, 1590.4)\" x=\"1339.73\" y=\"1590.4\">partitions</text>\n",
       "</g>\n",
       "<g clip-path=\"url(#clip7001)\">\n",
       "<text style=\"fill:#000000; fill-opacity:1; font-family:Arial,Helvetica Neue,Helvetica,sans-serif; font-size:66px; text-anchor:middle;\" transform=\"rotate(-90, 57.6, 783.233)\" x=\"57.6\" y=\"783.233\">value</text>\n",
       "</g>\n",
       "<polyline clip-path=\"url(#clip7003)\" style=\"stroke:#009af9; stroke-width:4; stroke-opacity:1; fill:none\" points=\"\n",
       "  413.756,1403.28 582.115,215.192 750.474,163.187 918.832,163.187 1087.19,163.187 1255.55,163.187 1423.91,163.187 1592.27,163.187 1760.63,163.187 1928.98,163.187 \n",
       "  2097.34,163.187 2265.7,163.187 \n",
       "  \"/>\n",
       "<polyline clip-path=\"url(#clip7003)\" style=\"stroke:#e26f46; stroke-width:4; stroke-opacity:1; fill:none\" points=\"\n",
       "  431.842,163.187 599.071,163.187 699.569,163.187 784.538,163.187 876.839,163.187 961.932,163.187 1053.16,163.187 1158.86,163.187 1252.79,163.187 1335.16,163.187 \n",
       "  1424.96,163.187 1515.3,163.187 1615.18,163.187 1710.22,163.187 1809.03,163.187 1892.21,163.187 1993.76,163.187 2089.23,163.187 2242.16,163.187 \n",
       "  \"/>\n",
       "<polygon clip-path=\"url(#clip7001)\" points=\"\n",
       "1958.43,390.944 2249.26,390.944 2249.26,209.504 1958.43,209.504 \n",
       "  \" fill=\"#ffffff\" fill-rule=\"evenodd\" fill-opacity=\"1\"/>\n",
       "<polyline clip-path=\"url(#clip7001)\" style=\"stroke:#000000; stroke-width:4; stroke-opacity:1; fill:none\" points=\"\n",
       "  1958.43,390.944 2249.26,390.944 2249.26,209.504 1958.43,209.504 1958.43,390.944 \n",
       "  \"/>\n",
       "<polyline clip-path=\"url(#clip7001)\" style=\"stroke:#009af9; stroke-width:4; stroke-opacity:1; fill:none\" points=\"\n",
       "  1982.43,269.984 2126.43,269.984 \n",
       "  \"/>\n",
       "<g clip-path=\"url(#clip7001)\">\n",
       "<text style=\"fill:#000000; fill-opacity:1; font-family:Arial,Helvetica Neue,Helvetica,sans-serif; font-size:48px; text-anchor:start;\" transform=\"rotate(0, 2150.43, 287.484)\" x=\"2150.43\" y=\"287.484\">y1</text>\n",
       "</g>\n",
       "<polyline clip-path=\"url(#clip7001)\" style=\"stroke:#e26f46; stroke-width:4; stroke-opacity:1; fill:none\" points=\"\n",
       "  1982.43,330.464 2126.43,330.464 \n",
       "  \"/>\n",
       "<g clip-path=\"url(#clip7001)\">\n",
       "<text style=\"fill:#000000; fill-opacity:1; font-family:Arial,Helvetica Neue,Helvetica,sans-serif; font-size:48px; text-anchor:start;\" transform=\"rotate(0, 2150.43, 347.964)\" x=\"2150.43\" y=\"347.964\">y2</text>\n",
       "</g>\n",
       "</svg>\n"
      ]
     },
     "execution_count": 276,
     "metadata": {},
     "output_type": "execute_result"
    }
   ],
   "source": [
    "plot(9:20,gauusIntegrals[9:20])\n",
    "plot!(x->quadgkIntegral,9,20,title = \"f(x) integral\",xlabel=\"partitions\",ylabel=\"value\")"
   ]
  },
  {
   "cell_type": "markdown",
   "metadata": {},
   "source": [
    "#### Twierdzenie o stopniu dokładności kwadratury Gaussa\n",
    "Kwadratura ma stopień dokładności 2n − 1; tzn. jest dokładna dla\n",
    "wielomianu: $P(x) = Q(x) · ϕn(x) + R(x)$ ; $Q$, $R$ są stopnia $<n$.\n",
    "\n",
    "Czyli dla wielomianu 20 stopnia wystarczy stopień kwadratury 11"
   ]
  },
  {
   "cell_type": "markdown",
   "metadata": {},
   "source": [
    "### Zadanie 3\n",
    "Skorzystaj z rozwiązania zadania 2 do napisania funkcji liczącej całki w dowolnym przedziale $\\int_{a}^{b} f(x) dx$\n",
    "\n",
    "dokonując normalizacji do $\\int_{-1}^{1} F(z) dz$\n",
    "\n",
    "podstawiając:\n",
    "\n",
    "$x=\\frac{b+a}{2}+ \\frac{b-a}{2} z $ oraz\n",
    "\n",
    "$dx =\\frac{b-a}{2} dz $\n",
    "\n",
    "Przetestuj działanie na kilku przykładach i sprawdź z wynikami otrzymanymi analitycznie."
   ]
  },
  {
   "cell_type": "code",
   "execution_count": 142,
   "metadata": {},
   "outputs": [
    {
     "data": {
      "text/plain": [
       "integral (generic function with 2 methods)"
      ]
     },
     "execution_count": 142,
     "metadata": {},
     "output_type": "execute_result"
    }
   ],
   "source": [
    "function integral(f,k,a,b)\n",
    "    F(z) = f((b+a)/2 + z*(b-a)/2)\n",
    "    integral(F,k)*(b-a)/2\n",
    "end"
   ]
  },
  {
   "cell_type": "code",
   "execution_count": 152,
   "metadata": {},
   "outputs": [
    {
     "data": {
      "text/plain": [
       "20×2 Array{Float64,2}:\n",
       " 114.0    114.0  \n",
       " 118.339  118.339\n",
       " 125.378  125.378\n",
       " 130.119  130.119\n",
       " 132.254  132.254\n",
       " 133.103  133.103\n",
       " 133.369  133.369\n",
       " 133.429  133.429\n",
       " 133.438  133.438\n",
       " 133.439  133.439\n",
       " 133.439  133.439\n",
       " 133.439  133.439\n",
       " 133.439  133.439\n",
       " 133.439  133.439\n",
       " 133.439  133.439\n",
       " 133.439  133.439\n",
       " 133.439  133.439\n",
       " 133.439  133.439\n",
       " 133.439  133.439\n",
       " 133.439  133.439"
      ]
     },
     "execution_count": 152,
     "metadata": {},
     "output_type": "execute_result"
    }
   ],
   "source": [
    "hcat(\n",
    "    [integral(f,d) for d in 1:20],\n",
    "    [integral(f,d,-1,1) for d in 1:20]\n",
    ")"
   ]
  },
  {
   "cell_type": "code",
   "execution_count": 196,
   "metadata": {},
   "outputs": [
    {
     "data": {
      "text/plain": [
       "f (generic function with 1 method)"
      ]
     },
     "execution_count": 196,
     "metadata": {},
     "output_type": "execute_result"
    }
   ],
   "source": [
    "f(x) = x^3"
   ]
  },
  {
   "cell_type": "code",
   "execution_count": 157,
   "metadata": {},
   "outputs": [
    {
     "data": {
      "text/plain": [
       "0.0"
      ]
     },
     "execution_count": 157,
     "metadata": {},
     "output_type": "execute_result"
    }
   ],
   "source": [
    "integral(f,3,-5,5)"
   ]
  },
  {
   "cell_type": "code",
   "execution_count": 164,
   "metadata": {},
   "outputs": [
    {
     "data": {
      "text/plain": [
       "4.0"
      ]
     },
     "execution_count": 164,
     "metadata": {},
     "output_type": "execute_result"
    }
   ],
   "source": [
    "integral(f,3,0,2)"
   ]
  },
  {
   "cell_type": "code",
   "execution_count": 163,
   "metadata": {},
   "outputs": [
    {
     "data": {
      "text/plain": [
       "4.0"
      ]
     },
     "execution_count": 163,
     "metadata": {},
     "output_type": "execute_result"
    }
   ],
   "source": [
    "quadgk(f, 0, 2)[1]"
   ]
  },
  {
   "cell_type": "markdown",
   "metadata": {},
   "source": [
    "### Zadanie 4\n",
    "Głowną funkcją pakietu QuadGK jest adaptacyjna funkcja guadgk używająca całkowania Gauss-Kronroda\n",
    "\n",
    "Funkcja ta ma możliwość liczenia również całek do nieskończoności Policz całkę od minus do plus nieskonczonosci standardowego rozkładu normalnego Gaussa $ \\frac{1}{\\sqrt{2\\pi}}exp(\\frac{-x^2}{2})$"
   ]
  },
  {
   "cell_type": "code",
   "execution_count": 168,
   "metadata": {},
   "outputs": [
    {
     "data": {
      "text/plain": [
       "g (generic function with 1 method)"
      ]
     },
     "execution_count": 168,
     "metadata": {},
     "output_type": "execute_result"
    }
   ],
   "source": [
    "g(x) = 1/sqrt(2*pi)*exp((-x^2)/2)"
   ]
  },
  {
   "cell_type": "code",
   "execution_count": 171,
   "metadata": {},
   "outputs": [
    {
     "data": {
      "text/plain": [
       "1.0000000000032583"
      ]
     },
     "execution_count": 171,
     "metadata": {},
     "output_type": "execute_result"
    }
   ],
   "source": [
    "quadgk(g, -Inf, Inf)[1]"
   ]
  },
  {
   "cell_type": "markdown",
   "metadata": {},
   "source": [
    "### Zadanie 5\n",
    "Napisz własną funkcję całkującą metodą prostokątów albo trapezów. Narysuj wykres funkcji błędu w stosunku do wyniku otrzymanego analitycznie w zaleznosci od ilosci potrzebnych przedziałów dla przykładowego wielomianu."
   ]
  },
  {
   "cell_type": "code",
   "execution_count": 5,
   "metadata": {},
   "outputs": [
    {
     "data": {
      "text/plain": [
       "myIntegral1 (generic function with 1 method)"
      ]
     },
     "execution_count": 5,
     "metadata": {},
     "output_type": "execute_result"
    }
   ],
   "source": [
    "function myIntegral1(f,k,a,b)\n",
    "    nodes = collect(a:(b-a)/k:b)\n",
    "    sum = 0\n",
    "    for i in 1:k\n",
    "        sum += (f(nodes[i])+f(nodes[i+1]))/2*(b-a)/k\n",
    "    end\n",
    "    sum\n",
    "end"
   ]
  },
  {
   "cell_type": "code",
   "execution_count": 14,
   "metadata": {
    "scrolled": true
   },
   "outputs": [
    {
     "data": {
      "text/plain": [
       "myIntegral2 (generic function with 1 method)"
      ]
     },
     "execution_count": 14,
     "metadata": {},
     "output_type": "execute_result"
    }
   ],
   "source": [
    "function myIntegral2(f,k,a,b)\n",
    "    nodes = collect(a:(b-a)/k:b)\n",
    "    (f(nodes[1])/2 + sum(n -> f(n),nodes[2:k]) + f(nodes[k+1])/2)*(b-a)/k\n",
    "end"
   ]
  },
  {
   "cell_type": "code",
   "execution_count": 76,
   "metadata": {
    "scrolled": false
   },
   "outputs": [
    {
     "data": {
      "text/plain": [
       "F (generic function with 1 method)"
      ]
     },
     "execution_count": 76,
     "metadata": {},
     "output_type": "execute_result"
    }
   ],
   "source": [
    "f(x) = x^2\n",
    "F(x) = x^3/3"
   ]
  },
  {
   "cell_type": "code",
   "execution_count": 77,
   "metadata": {
    "scrolled": false
   },
   "outputs": [
    {
     "data": {
      "text/plain": [
       "F6 (generic function with 2 methods)"
      ]
     },
     "execution_count": 77,
     "metadata": {},
     "output_type": "execute_result"
    }
   ],
   "source": [
    "F5(i) = F(3)-F(-3)\n",
    "F6(i) = myIntegral1(f,i,-3,3)"
   ]
  },
  {
   "cell_type": "code",
   "execution_count": 78,
   "metadata": {
    "scrolled": false
   },
   "outputs": [
    {
     "data": {
      "image/svg+xml": [
       "<?xml version=\"1.0\" encoding=\"utf-8\"?>\n",
       "<svg xmlns=\"http://www.w3.org/2000/svg\" xmlns:xlink=\"http://www.w3.org/1999/xlink\" width=\"600\" height=\"400\" viewBox=\"0 0 2400 1600\">\n",
       "<defs>\n",
       "  <clipPath id=\"clip2800\">\n",
       "    <rect x=\"0\" y=\"0\" width=\"2000\" height=\"2000\"/>\n",
       "  </clipPath>\n",
       "</defs>\n",
       "<defs>\n",
       "  <clipPath id=\"clip2801\">\n",
       "    <rect x=\"0\" y=\"0\" width=\"2400\" height=\"1600\"/>\n",
       "  </clipPath>\n",
       "</defs>\n",
       "<polygon clip-path=\"url(#clip2801)\" points=\"\n",
       "0,1600 2400,1600 2400,0 0,0 \n",
       "  \" fill=\"#ffffff\" fill-rule=\"evenodd\" fill-opacity=\"1\"/>\n",
       "<defs>\n",
       "  <clipPath id=\"clip2802\">\n",
       "    <rect x=\"480\" y=\"0\" width=\"1681\" height=\"1600\"/>\n",
       "  </clipPath>\n",
       "</defs>\n",
       "<polygon clip-path=\"url(#clip2801)\" points=\"\n",
       "211.005,1440.48 2321.26,1440.48 2321.26,125.984 211.005,125.984 \n",
       "  \" fill=\"#ffffff\" fill-rule=\"evenodd\" fill-opacity=\"1\"/>\n",
       "<defs>\n",
       "  <clipPath id=\"clip2803\">\n",
       "    <rect x=\"211\" y=\"125\" width=\"2111\" height=\"1315\"/>\n",
       "  </clipPath>\n",
       "</defs>\n",
       "<polyline clip-path=\"url(#clip2803)\" style=\"stroke:#000000; stroke-width:2; stroke-opacity:0.1; fill:none\" points=\"\n",
       "  250.62,1440.48 250.62,125.984 \n",
       "  \"/>\n",
       "<polyline clip-path=\"url(#clip2803)\" style=\"stroke:#000000; stroke-width:2; stroke-opacity:0.1; fill:none\" points=\"\n",
       "  753.349,1440.48 753.349,125.984 \n",
       "  \"/>\n",
       "<polyline clip-path=\"url(#clip2803)\" style=\"stroke:#000000; stroke-width:2; stroke-opacity:0.1; fill:none\" points=\"\n",
       "  1256.08,1440.48 1256.08,125.984 \n",
       "  \"/>\n",
       "<polyline clip-path=\"url(#clip2803)\" style=\"stroke:#000000; stroke-width:2; stroke-opacity:0.1; fill:none\" points=\"\n",
       "  1758.81,1440.48 1758.81,125.984 \n",
       "  \"/>\n",
       "<polyline clip-path=\"url(#clip2803)\" style=\"stroke:#000000; stroke-width:2; stroke-opacity:0.1; fill:none\" points=\"\n",
       "  2261.54,1440.48 2261.54,125.984 \n",
       "  \"/>\n",
       "<polyline clip-path=\"url(#clip2803)\" style=\"stroke:#000000; stroke-width:2; stroke-opacity:0.1; fill:none\" points=\"\n",
       "  211.005,1334.39 2321.26,1334.39 \n",
       "  \"/>\n",
       "<polyline clip-path=\"url(#clip2803)\" style=\"stroke:#000000; stroke-width:2; stroke-opacity:0.1; fill:none\" points=\"\n",
       "  211.005,989.916 2321.26,989.916 \n",
       "  \"/>\n",
       "<polyline clip-path=\"url(#clip2803)\" style=\"stroke:#000000; stroke-width:2; stroke-opacity:0.1; fill:none\" points=\"\n",
       "  211.005,645.445 2321.26,645.445 \n",
       "  \"/>\n",
       "<polyline clip-path=\"url(#clip2803)\" style=\"stroke:#000000; stroke-width:2; stroke-opacity:0.1; fill:none\" points=\"\n",
       "  211.005,300.975 2321.26,300.975 \n",
       "  \"/>\n",
       "<polyline clip-path=\"url(#clip2801)\" style=\"stroke:#000000; stroke-width:4; stroke-opacity:1; fill:none\" points=\"\n",
       "  211.005,1440.48 2321.26,1440.48 \n",
       "  \"/>\n",
       "<polyline clip-path=\"url(#clip2801)\" style=\"stroke:#000000; stroke-width:4; stroke-opacity:1; fill:none\" points=\"\n",
       "  211.005,1440.48 211.005,125.984 \n",
       "  \"/>\n",
       "<polyline clip-path=\"url(#clip2801)\" style=\"stroke:#000000; stroke-width:4; stroke-opacity:1; fill:none\" points=\"\n",
       "  250.62,1440.48 250.62,1420.77 \n",
       "  \"/>\n",
       "<polyline clip-path=\"url(#clip2801)\" style=\"stroke:#000000; stroke-width:4; stroke-opacity:1; fill:none\" points=\"\n",
       "  753.349,1440.48 753.349,1420.77 \n",
       "  \"/>\n",
       "<polyline clip-path=\"url(#clip2801)\" style=\"stroke:#000000; stroke-width:4; stroke-opacity:1; fill:none\" points=\"\n",
       "  1256.08,1440.48 1256.08,1420.77 \n",
       "  \"/>\n",
       "<polyline clip-path=\"url(#clip2801)\" style=\"stroke:#000000; stroke-width:4; stroke-opacity:1; fill:none\" points=\"\n",
       "  1758.81,1440.48 1758.81,1420.77 \n",
       "  \"/>\n",
       "<polyline clip-path=\"url(#clip2801)\" style=\"stroke:#000000; stroke-width:4; stroke-opacity:1; fill:none\" points=\"\n",
       "  2261.54,1440.48 2261.54,1420.77 \n",
       "  \"/>\n",
       "<polyline clip-path=\"url(#clip2801)\" style=\"stroke:#000000; stroke-width:4; stroke-opacity:1; fill:none\" points=\"\n",
       "  211.005,1334.39 242.659,1334.39 \n",
       "  \"/>\n",
       "<polyline clip-path=\"url(#clip2801)\" style=\"stroke:#000000; stroke-width:4; stroke-opacity:1; fill:none\" points=\"\n",
       "  211.005,989.916 242.659,989.916 \n",
       "  \"/>\n",
       "<polyline clip-path=\"url(#clip2801)\" style=\"stroke:#000000; stroke-width:4; stroke-opacity:1; fill:none\" points=\"\n",
       "  211.005,645.445 242.659,645.445 \n",
       "  \"/>\n",
       "<polyline clip-path=\"url(#clip2801)\" style=\"stroke:#000000; stroke-width:4; stroke-opacity:1; fill:none\" points=\"\n",
       "  211.005,300.975 242.659,300.975 \n",
       "  \"/>\n",
       "<g clip-path=\"url(#clip2801)\">\n",
       "<text style=\"fill:#000000; fill-opacity:1; font-family:Arial,Helvetica Neue,Helvetica,sans-serif; font-size:48px; text-anchor:middle;\" transform=\"rotate(0, 250.62, 1494.48)\" x=\"250.62\" y=\"1494.48\">0</text>\n",
       "</g>\n",
       "<g clip-path=\"url(#clip2801)\">\n",
       "<text style=\"fill:#000000; fill-opacity:1; font-family:Arial,Helvetica Neue,Helvetica,sans-serif; font-size:48px; text-anchor:middle;\" transform=\"rotate(0, 753.349, 1494.48)\" x=\"753.349\" y=\"1494.48\">25</text>\n",
       "</g>\n",
       "<g clip-path=\"url(#clip2801)\">\n",
       "<text style=\"fill:#000000; fill-opacity:1; font-family:Arial,Helvetica Neue,Helvetica,sans-serif; font-size:48px; text-anchor:middle;\" transform=\"rotate(0, 1256.08, 1494.48)\" x=\"1256.08\" y=\"1494.48\">50</text>\n",
       "</g>\n",
       "<g clip-path=\"url(#clip2801)\">\n",
       "<text style=\"fill:#000000; fill-opacity:1; font-family:Arial,Helvetica Neue,Helvetica,sans-serif; font-size:48px; text-anchor:middle;\" transform=\"rotate(0, 1758.81, 1494.48)\" x=\"1758.81\" y=\"1494.48\">75</text>\n",
       "</g>\n",
       "<g clip-path=\"url(#clip2801)\">\n",
       "<text style=\"fill:#000000; fill-opacity:1; font-family:Arial,Helvetica Neue,Helvetica,sans-serif; font-size:48px; text-anchor:middle;\" transform=\"rotate(0, 2261.54, 1494.48)\" x=\"2261.54\" y=\"1494.48\">100</text>\n",
       "</g>\n",
       "<g clip-path=\"url(#clip2801)\">\n",
       "<text style=\"fill:#000000; fill-opacity:1; font-family:Arial,Helvetica Neue,Helvetica,sans-serif; font-size:48px; text-anchor:end;\" transform=\"rotate(0, 187.005, 1351.89)\" x=\"187.005\" y=\"1351.89\">20</text>\n",
       "</g>\n",
       "<g clip-path=\"url(#clip2801)\">\n",
       "<text style=\"fill:#000000; fill-opacity:1; font-family:Arial,Helvetica Neue,Helvetica,sans-serif; font-size:48px; text-anchor:end;\" transform=\"rotate(0, 187.005, 1007.42)\" x=\"187.005\" y=\"1007.42\">30</text>\n",
       "</g>\n",
       "<g clip-path=\"url(#clip2801)\">\n",
       "<text style=\"fill:#000000; fill-opacity:1; font-family:Arial,Helvetica Neue,Helvetica,sans-serif; font-size:48px; text-anchor:end;\" transform=\"rotate(0, 187.005, 662.945)\" x=\"187.005\" y=\"662.945\">40</text>\n",
       "</g>\n",
       "<g clip-path=\"url(#clip2801)\">\n",
       "<text style=\"fill:#000000; fill-opacity:1; font-family:Arial,Helvetica Neue,Helvetica,sans-serif; font-size:48px; text-anchor:end;\" transform=\"rotate(0, 187.005, 318.475)\" x=\"187.005\" y=\"318.475\">50</text>\n",
       "</g>\n",
       "<g clip-path=\"url(#clip2801)\">\n",
       "<text style=\"fill:#000000; fill-opacity:1; font-family:Arial,Helvetica Neue,Helvetica,sans-serif; font-size:84px; text-anchor:middle;\" transform=\"rotate(0, 1266.13, 73.2)\" x=\"1266.13\" y=\"73.2\">Integral error</text>\n",
       "</g>\n",
       "<g clip-path=\"url(#clip2801)\">\n",
       "<text style=\"fill:#000000; fill-opacity:1; font-family:Arial,Helvetica Neue,Helvetica,sans-serif; font-size:66px; text-anchor:middle;\" transform=\"rotate(0, 1266.13, 1590.4)\" x=\"1266.13\" y=\"1590.4\">partitions</text>\n",
       "</g>\n",
       "<g clip-path=\"url(#clip2801)\">\n",
       "<text style=\"fill:#000000; fill-opacity:1; font-family:Arial,Helvetica Neue,Helvetica,sans-serif; font-size:66px; text-anchor:middle;\" transform=\"rotate(-90, 57.6, 783.233)\" x=\"57.6\" y=\"783.233\">error</text>\n",
       "</g>\n",
       "<polyline clip-path=\"url(#clip2803)\" style=\"stroke:#009af9; stroke-width:4; stroke-opacity:1; fill:none\" points=\"\n",
       "  270.729,1403.28 290.838,1403.28 310.948,1403.28 331.057,1403.28 351.166,1403.28 371.275,1403.28 391.384,1403.28 411.493,1403.28 431.602,1403.28 451.712,1403.28 \n",
       "  471.821,1403.28 491.93,1403.28 512.039,1403.28 532.148,1403.28 552.257,1403.28 572.367,1403.28 592.476,1403.28 612.585,1403.28 632.694,1403.28 652.803,1403.28 \n",
       "  672.912,1403.28 693.021,1403.28 713.131,1403.28 733.24,1403.28 753.349,1403.28 773.458,1403.28 793.567,1403.28 813.676,1403.28 833.786,1403.28 853.895,1403.28 \n",
       "  874.004,1403.28 894.113,1403.28 914.222,1403.28 934.331,1403.28 954.44,1403.28 974.55,1403.28 994.659,1403.28 1014.77,1403.28 1034.88,1403.28 1054.99,1403.28 \n",
       "  1075.1,1403.28 1095.2,1403.28 1115.31,1403.28 1135.42,1403.28 1155.53,1403.28 1175.64,1403.28 1195.75,1403.28 1215.86,1403.28 1235.97,1403.28 1256.08,1403.28 \n",
       "  1276.19,1403.28 1296.3,1403.28 1316.41,1403.28 1336.51,1403.28 1356.62,1403.28 1376.73,1403.28 1396.84,1403.28 1416.95,1403.28 1437.06,1403.28 1457.17,1403.28 \n",
       "  1477.28,1403.28 1497.39,1403.28 1517.5,1403.28 1537.61,1403.28 1557.72,1403.28 1577.82,1403.28 1597.93,1403.28 1618.04,1403.28 1638.15,1403.28 1658.26,1403.28 \n",
       "  1678.37,1403.28 1698.48,1403.28 1718.59,1403.28 1738.7,1403.28 1758.81,1403.28 1778.92,1403.28 1799.03,1403.28 1819.13,1403.28 1839.24,1403.28 1859.35,1403.28 \n",
       "  1879.46,1403.28 1899.57,1403.28 1919.68,1403.28 1939.79,1403.28 1959.9,1403.28 1980.01,1403.28 2000.12,1403.28 2020.23,1403.28 2040.33,1403.28 2060.44,1403.28 \n",
       "  2080.55,1403.28 2100.66,1403.28 2120.77,1403.28 2140.88,1403.28 2160.99,1403.28 2181.1,1403.28 2201.21,1403.28 2221.32,1403.28 2241.43,1403.28 2261.54,1403.28 \n",
       "  \n",
       "  \"/>\n",
       "<polyline clip-path=\"url(#clip2803)\" style=\"stroke:#e26f46; stroke-width:4; stroke-opacity:1; fill:none\" points=\"\n",
       "  270.729,163.187 290.838,1093.26 310.948,1265.49 331.057,1325.77 351.166,1353.68 371.275,1368.83 391.384,1377.97 411.493,1383.9 431.602,1387.97 451.712,1390.88 \n",
       "  471.821,1393.03 491.93,1394.67 512.039,1395.94 532.148,1396.95 552.257,1397.77 572.367,1398.44 592.476,1398.99 612.585,1399.45 632.694,1399.84 652.803,1400.18 \n",
       "  672.912,1400.47 693.021,1400.72 713.131,1400.94 733.24,1401.13 753.349,1401.3 773.458,1401.45 793.567,1401.58 813.676,1401.7 833.786,1401.81 853.895,1401.9 \n",
       "  874.004,1401.99 894.113,1402.07 914.222,1402.14 934.331,1402.21 954.44,1402.27 974.55,1402.32 994.659,1402.37 1014.77,1402.42 1034.88,1402.46 1054.99,1402.5 \n",
       "  1075.1,1402.54 1095.2,1402.58 1115.31,1402.61 1135.42,1402.64 1155.53,1402.67 1175.64,1402.69 1195.75,1402.72 1215.86,1402.74 1235.97,1402.76 1256.08,1402.78 \n",
       "  1276.19,1402.8 1296.3,1402.82 1316.41,1402.84 1336.51,1402.85 1356.62,1402.87 1376.73,1402.88 1396.84,1402.9 1416.95,1402.91 1437.06,1402.92 1457.17,1402.94 \n",
       "  1477.28,1402.95 1497.39,1402.96 1517.5,1402.97 1537.61,1402.98 1557.72,1402.99 1577.82,1403 1597.93,1403 1618.04,1403.01 1638.15,1403.02 1658.26,1403.03 \n",
       "  1678.37,1403.03 1698.48,1403.04 1718.59,1403.05 1738.7,1403.05 1758.81,1403.06 1778.92,1403.07 1799.03,1403.07 1819.13,1403.08 1839.24,1403.08 1859.35,1403.09 \n",
       "  1879.46,1403.09 1899.57,1403.1 1919.68,1403.1 1939.79,1403.1 1959.9,1403.11 1980.01,1403.11 2000.12,1403.12 2020.23,1403.12 2040.33,1403.12 2060.44,1403.13 \n",
       "  2080.55,1403.13 2100.66,1403.13 2120.77,1403.14 2140.88,1403.14 2160.99,1403.14 2181.1,1403.15 2201.21,1403.15 2221.32,1403.15 2241.43,1403.15 2261.54,1403.16 \n",
       "  \n",
       "  \"/>\n",
       "<polygon clip-path=\"url(#clip2801)\" points=\"\n",
       "1958.43,390.944 2249.26,390.944 2249.26,209.504 1958.43,209.504 \n",
       "  \" fill=\"#ffffff\" fill-rule=\"evenodd\" fill-opacity=\"1\"/>\n",
       "<polyline clip-path=\"url(#clip2801)\" style=\"stroke:#000000; stroke-width:4; stroke-opacity:1; fill:none\" points=\"\n",
       "  1958.43,390.944 2249.26,390.944 2249.26,209.504 1958.43,209.504 1958.43,390.944 \n",
       "  \"/>\n",
       "<polyline clip-path=\"url(#clip2801)\" style=\"stroke:#009af9; stroke-width:4; stroke-opacity:1; fill:none\" points=\"\n",
       "  1982.43,269.984 2126.43,269.984 \n",
       "  \"/>\n",
       "<g clip-path=\"url(#clip2801)\">\n",
       "<text style=\"fill:#000000; fill-opacity:1; font-family:Arial,Helvetica Neue,Helvetica,sans-serif; font-size:48px; text-anchor:start;\" transform=\"rotate(0, 2150.43, 287.484)\" x=\"2150.43\" y=\"287.484\">y1</text>\n",
       "</g>\n",
       "<polyline clip-path=\"url(#clip2801)\" style=\"stroke:#e26f46; stroke-width:4; stroke-opacity:1; fill:none\" points=\"\n",
       "  1982.43,330.464 2126.43,330.464 \n",
       "  \"/>\n",
       "<g clip-path=\"url(#clip2801)\">\n",
       "<text style=\"fill:#000000; fill-opacity:1; font-family:Arial,Helvetica Neue,Helvetica,sans-serif; font-size:48px; text-anchor:start;\" transform=\"rotate(0, 2150.43, 347.964)\" x=\"2150.43\" y=\"347.964\">y2</text>\n",
       "</g>\n",
       "</svg>\n"
      ]
     },
     "execution_count": 78,
     "metadata": {},
     "output_type": "execute_result"
    }
   ],
   "source": [
    "plot([F5,F6],collect(1:100),title = \"Integral error\",xlabel=\"partitions\",ylabel=\"error\")"
   ]
  },
  {
   "cell_type": "code",
   "execution_count": 82,
   "metadata": {},
   "outputs": [
    {
     "data": {
      "text/plain": [
       "F (generic function with 1 method)"
      ]
     },
     "execution_count": 82,
     "metadata": {},
     "output_type": "execute_result"
    }
   ],
   "source": [
    "f(x) = 2x^4 - 17x^3 + 3x^2 - 5x + 57\n",
    "F(x) = 2/5*x^5 - 14/4*x^4  + x^3 - 5/2*x^2 + 57x"
   ]
  },
  {
   "cell_type": "code",
   "execution_count": 83,
   "metadata": {},
   "outputs": [
    {
     "data": {
      "text/plain": [
       "F6 (generic function with 2 methods)"
      ]
     },
     "execution_count": 83,
     "metadata": {},
     "output_type": "execute_result"
    }
   ],
   "source": [
    "F5(i) = F(3)-F(-3)\n",
    "F6(i) = myIntegral1(f,i,-3,3)"
   ]
  },
  {
   "cell_type": "code",
   "execution_count": 84,
   "metadata": {},
   "outputs": [
    {
     "data": {
      "image/svg+xml": [
       "<?xml version=\"1.0\" encoding=\"utf-8\"?>\n",
       "<svg xmlns=\"http://www.w3.org/2000/svg\" xmlns:xlink=\"http://www.w3.org/1999/xlink\" width=\"600\" height=\"400\" viewBox=\"0 0 2400 1600\">\n",
       "<defs>\n",
       "  <clipPath id=\"clip3200\">\n",
       "    <rect x=\"0\" y=\"0\" width=\"2000\" height=\"2000\"/>\n",
       "  </clipPath>\n",
       "</defs>\n",
       "<defs>\n",
       "  <clipPath id=\"clip3201\">\n",
       "    <rect x=\"0\" y=\"0\" width=\"2400\" height=\"1600\"/>\n",
       "  </clipPath>\n",
       "</defs>\n",
       "<polygon clip-path=\"url(#clip3201)\" points=\"\n",
       "0,1600 2400,1600 2400,0 0,0 \n",
       "  \" fill=\"#ffffff\" fill-rule=\"evenodd\" fill-opacity=\"1\"/>\n",
       "<defs>\n",
       "  <clipPath id=\"clip3202\">\n",
       "    <rect x=\"480\" y=\"0\" width=\"1681\" height=\"1600\"/>\n",
       "  </clipPath>\n",
       "</defs>\n",
       "<polygon clip-path=\"url(#clip3201)\" points=\"\n",
       "264.53,1440.48 2321.26,1440.48 2321.26,125.984 264.53,125.984 \n",
       "  \" fill=\"#ffffff\" fill-rule=\"evenodd\" fill-opacity=\"1\"/>\n",
       "<defs>\n",
       "  <clipPath id=\"clip3203\">\n",
       "    <rect x=\"264\" y=\"125\" width=\"2058\" height=\"1315\"/>\n",
       "  </clipPath>\n",
       "</defs>\n",
       "<polyline clip-path=\"url(#clip3203)\" style=\"stroke:#000000; stroke-width:2; stroke-opacity:0.1; fill:none\" points=\"\n",
       "  303.14,1440.48 303.14,125.984 \n",
       "  \"/>\n",
       "<polyline clip-path=\"url(#clip3203)\" style=\"stroke:#000000; stroke-width:2; stroke-opacity:0.1; fill:none\" points=\"\n",
       "  793.118,1440.48 793.118,125.984 \n",
       "  \"/>\n",
       "<polyline clip-path=\"url(#clip3203)\" style=\"stroke:#000000; stroke-width:2; stroke-opacity:0.1; fill:none\" points=\"\n",
       "  1283.1,1440.48 1283.1,125.984 \n",
       "  \"/>\n",
       "<polyline clip-path=\"url(#clip3203)\" style=\"stroke:#000000; stroke-width:2; stroke-opacity:0.1; fill:none\" points=\"\n",
       "  1773.07,1440.48 1773.07,125.984 \n",
       "  \"/>\n",
       "<polyline clip-path=\"url(#clip3203)\" style=\"stroke:#000000; stroke-width:2; stroke-opacity:0.1; fill:none\" points=\"\n",
       "  2263.05,1440.48 2263.05,125.984 \n",
       "  \"/>\n",
       "<polyline clip-path=\"url(#clip3203)\" style=\"stroke:#000000; stroke-width:2; stroke-opacity:0.1; fill:none\" points=\"\n",
       "  264.53,1389.84 2321.26,1389.84 \n",
       "  \"/>\n",
       "<polyline clip-path=\"url(#clip3203)\" style=\"stroke:#000000; stroke-width:2; stroke-opacity:0.1; fill:none\" points=\"\n",
       "  264.53,1109.78 2321.26,1109.78 \n",
       "  \"/>\n",
       "<polyline clip-path=\"url(#clip3203)\" style=\"stroke:#000000; stroke-width:2; stroke-opacity:0.1; fill:none\" points=\"\n",
       "  264.53,829.723 2321.26,829.723 \n",
       "  \"/>\n",
       "<polyline clip-path=\"url(#clip3203)\" style=\"stroke:#000000; stroke-width:2; stroke-opacity:0.1; fill:none\" points=\"\n",
       "  264.53,549.666 2321.26,549.666 \n",
       "  \"/>\n",
       "<polyline clip-path=\"url(#clip3203)\" style=\"stroke:#000000; stroke-width:2; stroke-opacity:0.1; fill:none\" points=\"\n",
       "  264.53,269.609 2321.26,269.609 \n",
       "  \"/>\n",
       "<polyline clip-path=\"url(#clip3201)\" style=\"stroke:#000000; stroke-width:4; stroke-opacity:1; fill:none\" points=\"\n",
       "  264.53,1440.48 2321.26,1440.48 \n",
       "  \"/>\n",
       "<polyline clip-path=\"url(#clip3201)\" style=\"stroke:#000000; stroke-width:4; stroke-opacity:1; fill:none\" points=\"\n",
       "  264.53,1440.48 264.53,125.984 \n",
       "  \"/>\n",
       "<polyline clip-path=\"url(#clip3201)\" style=\"stroke:#000000; stroke-width:4; stroke-opacity:1; fill:none\" points=\"\n",
       "  303.14,1440.48 303.14,1420.77 \n",
       "  \"/>\n",
       "<polyline clip-path=\"url(#clip3201)\" style=\"stroke:#000000; stroke-width:4; stroke-opacity:1; fill:none\" points=\"\n",
       "  793.118,1440.48 793.118,1420.77 \n",
       "  \"/>\n",
       "<polyline clip-path=\"url(#clip3201)\" style=\"stroke:#000000; stroke-width:4; stroke-opacity:1; fill:none\" points=\"\n",
       "  1283.1,1440.48 1283.1,1420.77 \n",
       "  \"/>\n",
       "<polyline clip-path=\"url(#clip3201)\" style=\"stroke:#000000; stroke-width:4; stroke-opacity:1; fill:none\" points=\"\n",
       "  1773.07,1440.48 1773.07,1420.77 \n",
       "  \"/>\n",
       "<polyline clip-path=\"url(#clip3201)\" style=\"stroke:#000000; stroke-width:4; stroke-opacity:1; fill:none\" points=\"\n",
       "  2263.05,1440.48 2263.05,1420.77 \n",
       "  \"/>\n",
       "<polyline clip-path=\"url(#clip3201)\" style=\"stroke:#000000; stroke-width:4; stroke-opacity:1; fill:none\" points=\"\n",
       "  264.53,1389.84 295.381,1389.84 \n",
       "  \"/>\n",
       "<polyline clip-path=\"url(#clip3201)\" style=\"stroke:#000000; stroke-width:4; stroke-opacity:1; fill:none\" points=\"\n",
       "  264.53,1109.78 295.381,1109.78 \n",
       "  \"/>\n",
       "<polyline clip-path=\"url(#clip3201)\" style=\"stroke:#000000; stroke-width:4; stroke-opacity:1; fill:none\" points=\"\n",
       "  264.53,829.723 295.381,829.723 \n",
       "  \"/>\n",
       "<polyline clip-path=\"url(#clip3201)\" style=\"stroke:#000000; stroke-width:4; stroke-opacity:1; fill:none\" points=\"\n",
       "  264.53,549.666 295.381,549.666 \n",
       "  \"/>\n",
       "<polyline clip-path=\"url(#clip3201)\" style=\"stroke:#000000; stroke-width:4; stroke-opacity:1; fill:none\" points=\"\n",
       "  264.53,269.609 295.381,269.609 \n",
       "  \"/>\n",
       "<g clip-path=\"url(#clip3201)\">\n",
       "<text style=\"fill:#000000; fill-opacity:1; font-family:Arial,Helvetica Neue,Helvetica,sans-serif; font-size:48px; text-anchor:middle;\" transform=\"rotate(0, 303.14, 1494.48)\" x=\"303.14\" y=\"1494.48\">0</text>\n",
       "</g>\n",
       "<g clip-path=\"url(#clip3201)\">\n",
       "<text style=\"fill:#000000; fill-opacity:1; font-family:Arial,Helvetica Neue,Helvetica,sans-serif; font-size:48px; text-anchor:middle;\" transform=\"rotate(0, 793.118, 1494.48)\" x=\"793.118\" y=\"1494.48\">25</text>\n",
       "</g>\n",
       "<g clip-path=\"url(#clip3201)\">\n",
       "<text style=\"fill:#000000; fill-opacity:1; font-family:Arial,Helvetica Neue,Helvetica,sans-serif; font-size:48px; text-anchor:middle;\" transform=\"rotate(0, 1283.1, 1494.48)\" x=\"1283.1\" y=\"1494.48\">50</text>\n",
       "</g>\n",
       "<g clip-path=\"url(#clip3201)\">\n",
       "<text style=\"fill:#000000; fill-opacity:1; font-family:Arial,Helvetica Neue,Helvetica,sans-serif; font-size:48px; text-anchor:middle;\" transform=\"rotate(0, 1773.07, 1494.48)\" x=\"1773.07\" y=\"1494.48\">75</text>\n",
       "</g>\n",
       "<g clip-path=\"url(#clip3201)\">\n",
       "<text style=\"fill:#000000; fill-opacity:1; font-family:Arial,Helvetica Neue,Helvetica,sans-serif; font-size:48px; text-anchor:middle;\" transform=\"rotate(0, 2263.05, 1494.48)\" x=\"2263.05\" y=\"1494.48\">100</text>\n",
       "</g>\n",
       "<g clip-path=\"url(#clip3201)\">\n",
       "<text style=\"fill:#000000; fill-opacity:1; font-family:Arial,Helvetica Neue,Helvetica,sans-serif; font-size:48px; text-anchor:end;\" transform=\"rotate(0, 240.53, 1407.34)\" x=\"240.53\" y=\"1407.34\">600</text>\n",
       "</g>\n",
       "<g clip-path=\"url(#clip3201)\">\n",
       "<text style=\"fill:#000000; fill-opacity:1; font-family:Arial,Helvetica Neue,Helvetica,sans-serif; font-size:48px; text-anchor:end;\" transform=\"rotate(0, 240.53, 1127.28)\" x=\"240.53\" y=\"1127.28\">800</text>\n",
       "</g>\n",
       "<g clip-path=\"url(#clip3201)\">\n",
       "<text style=\"fill:#000000; fill-opacity:1; font-family:Arial,Helvetica Neue,Helvetica,sans-serif; font-size:48px; text-anchor:end;\" transform=\"rotate(0, 240.53, 847.223)\" x=\"240.53\" y=\"847.223\">1000</text>\n",
       "</g>\n",
       "<g clip-path=\"url(#clip3201)\">\n",
       "<text style=\"fill:#000000; fill-opacity:1; font-family:Arial,Helvetica Neue,Helvetica,sans-serif; font-size:48px; text-anchor:end;\" transform=\"rotate(0, 240.53, 567.166)\" x=\"240.53\" y=\"567.166\">1200</text>\n",
       "</g>\n",
       "<g clip-path=\"url(#clip3201)\">\n",
       "<text style=\"fill:#000000; fill-opacity:1; font-family:Arial,Helvetica Neue,Helvetica,sans-serif; font-size:48px; text-anchor:end;\" transform=\"rotate(0, 240.53, 287.109)\" x=\"240.53\" y=\"287.109\">1400</text>\n",
       "</g>\n",
       "<g clip-path=\"url(#clip3201)\">\n",
       "<text style=\"fill:#000000; fill-opacity:1; font-family:Arial,Helvetica Neue,Helvetica,sans-serif; font-size:84px; text-anchor:middle;\" transform=\"rotate(0, 1292.89, 73.2)\" x=\"1292.89\" y=\"73.2\">Integral error</text>\n",
       "</g>\n",
       "<g clip-path=\"url(#clip3201)\">\n",
       "<text style=\"fill:#000000; fill-opacity:1; font-family:Arial,Helvetica Neue,Helvetica,sans-serif; font-size:66px; text-anchor:middle;\" transform=\"rotate(0, 1292.89, 1590.4)\" x=\"1292.89\" y=\"1590.4\">partitions</text>\n",
       "</g>\n",
       "<g clip-path=\"url(#clip3201)\">\n",
       "<text style=\"fill:#000000; fill-opacity:1; font-family:Arial,Helvetica Neue,Helvetica,sans-serif; font-size:66px; text-anchor:middle;\" transform=\"rotate(-90, 57.6, 783.233)\" x=\"57.6\" y=\"783.233\">error</text>\n",
       "</g>\n",
       "<polyline clip-path=\"url(#clip3203)\" style=\"stroke:#009af9; stroke-width:4; stroke-opacity:1; fill:none\" points=\"\n",
       "  322.739,1403.28 342.338,1403.28 361.937,1403.28 381.536,1403.28 401.135,1403.28 420.735,1403.28 440.334,1403.28 459.933,1403.28 479.532,1403.28 499.131,1403.28 \n",
       "  518.73,1403.28 538.329,1403.28 557.928,1403.28 577.527,1403.28 597.127,1403.28 616.726,1403.28 636.325,1403.28 655.924,1403.28 675.523,1403.28 695.122,1403.28 \n",
       "  714.721,1403.28 734.32,1403.28 753.919,1403.28 773.518,1403.28 793.118,1403.28 812.717,1403.28 832.316,1403.28 851.915,1403.28 871.514,1403.28 891.113,1403.28 \n",
       "  910.712,1403.28 930.311,1403.28 949.91,1403.28 969.51,1403.28 989.109,1403.28 1008.71,1403.28 1028.31,1403.28 1047.91,1403.28 1067.51,1403.28 1087.1,1403.28 \n",
       "  1106.7,1403.28 1126.3,1403.28 1145.9,1403.28 1165.5,1403.28 1185.1,1403.28 1204.7,1403.28 1224.3,1403.28 1243.9,1403.28 1263.5,1403.28 1283.1,1403.28 \n",
       "  1302.69,1403.28 1322.29,1403.28 1341.89,1403.28 1361.49,1403.28 1381.09,1403.28 1400.69,1403.28 1420.29,1403.28 1439.89,1403.28 1459.49,1403.28 1479.09,1403.28 \n",
       "  1498.69,1403.28 1518.28,1403.28 1537.88,1403.28 1557.48,1403.28 1577.08,1403.28 1596.68,1403.28 1616.28,1403.28 1635.88,1403.28 1655.48,1403.28 1675.08,1403.28 \n",
       "  1694.68,1403.28 1714.28,1403.28 1733.87,1403.28 1753.47,1403.28 1773.07,1403.28 1792.67,1403.28 1812.27,1403.28 1831.87,1403.28 1851.47,1403.28 1871.07,1403.28 \n",
       "  1890.67,1403.28 1910.27,1403.28 1929.87,1403.28 1949.46,1403.28 1969.06,1403.28 1988.66,1403.28 2008.26,1403.28 2027.86,1403.28 2047.46,1403.28 2067.06,1403.28 \n",
       "  2086.66,1403.28 2106.26,1403.28 2125.86,1403.28 2145.46,1403.28 2165.05,1403.28 2184.65,1403.28 2204.25,1403.28 2223.85,1403.28 2243.45,1403.28 2263.05,1403.28 \n",
       "  \n",
       "  \"/>\n",
       "<polyline clip-path=\"url(#clip3203)\" style=\"stroke:#e26f46; stroke-width:4; stroke-opacity:1; fill:none\" points=\"\n",
       "  322.739,163.187 342.338,957.149 361.937,1193.8 381.536,1283.24 401.135,1325.8 420.735,1349.23 440.334,1363.46 459.933,1372.74 479.532,1379.12 499.131,1383.69 \n",
       "  518.73,1387.08 538.329,1389.66 557.928,1391.67 577.527,1393.27 597.127,1394.56 616.726,1395.61 636.325,1396.49 655.924,1397.22 675.523,1397.84 695.122,1398.37 \n",
       "  714.721,1398.83 734.32,1399.22 753.919,1399.57 773.518,1399.87 793.118,1400.14 812.717,1400.37 832.316,1400.58 851.915,1400.77 871.514,1400.94 891.113,1401.1 \n",
       "  910.712,1401.23 930.311,1401.36 949.91,1401.48 969.51,1401.58 989.109,1401.68 1008.71,1401.76 1028.31,1401.84 1047.91,1401.92 1067.51,1401.99 1087.1,1402.05 \n",
       "  1106.7,1402.11 1126.3,1402.17 1145.9,1402.22 1165.5,1402.26 1185.1,1402.31 1204.7,1402.35 1224.3,1402.39 1243.9,1402.43 1263.5,1402.46 1283.1,1402.49 \n",
       "  1302.69,1402.52 1322.29,1402.55 1341.89,1402.58 1361.49,1402.61 1381.09,1402.63 1400.69,1402.65 1420.29,1402.67 1439.89,1402.7 1459.49,1402.72 1479.09,1402.73 \n",
       "  1498.69,1402.75 1518.28,1402.77 1537.88,1402.78 1557.48,1402.8 1577.08,1402.81 1596.68,1402.83 1616.28,1402.84 1635.88,1402.85 1655.48,1402.87 1675.08,1402.88 \n",
       "  1694.68,1402.89 1714.28,1402.9 1733.87,1402.91 1753.47,1402.92 1773.07,1402.93 1792.67,1402.94 1812.27,1402.95 1831.87,1402.96 1851.47,1402.96 1871.07,1402.97 \n",
       "  1890.67,1402.98 1910.27,1402.99 1929.87,1402.99 1949.46,1403 1969.06,1403.01 1988.66,1403.01 2008.26,1403.02 2027.86,1403.03 2047.46,1403.03 2067.06,1403.04 \n",
       "  2086.66,1403.04 2106.26,1403.05 2125.86,1403.05 2145.46,1403.06 2165.05,1403.06 2184.65,1403.07 2204.25,1403.07 2223.85,1403.08 2243.45,1403.08 2263.05,1403.08 \n",
       "  \n",
       "  \"/>\n",
       "<polygon clip-path=\"url(#clip3201)\" points=\"\n",
       "1958.43,390.944 2249.26,390.944 2249.26,209.504 1958.43,209.504 \n",
       "  \" fill=\"#ffffff\" fill-rule=\"evenodd\" fill-opacity=\"1\"/>\n",
       "<polyline clip-path=\"url(#clip3201)\" style=\"stroke:#000000; stroke-width:4; stroke-opacity:1; fill:none\" points=\"\n",
       "  1958.43,390.944 2249.26,390.944 2249.26,209.504 1958.43,209.504 1958.43,390.944 \n",
       "  \"/>\n",
       "<polyline clip-path=\"url(#clip3201)\" style=\"stroke:#009af9; stroke-width:4; stroke-opacity:1; fill:none\" points=\"\n",
       "  1982.43,269.984 2126.43,269.984 \n",
       "  \"/>\n",
       "<g clip-path=\"url(#clip3201)\">\n",
       "<text style=\"fill:#000000; fill-opacity:1; font-family:Arial,Helvetica Neue,Helvetica,sans-serif; font-size:48px; text-anchor:start;\" transform=\"rotate(0, 2150.43, 287.484)\" x=\"2150.43\" y=\"287.484\">y1</text>\n",
       "</g>\n",
       "<polyline clip-path=\"url(#clip3201)\" style=\"stroke:#e26f46; stroke-width:4; stroke-opacity:1; fill:none\" points=\"\n",
       "  1982.43,330.464 2126.43,330.464 \n",
       "  \"/>\n",
       "<g clip-path=\"url(#clip3201)\">\n",
       "<text style=\"fill:#000000; fill-opacity:1; font-family:Arial,Helvetica Neue,Helvetica,sans-serif; font-size:48px; text-anchor:start;\" transform=\"rotate(0, 2150.43, 347.964)\" x=\"2150.43\" y=\"347.964\">y2</text>\n",
       "</g>\n",
       "</svg>\n"
      ]
     },
     "execution_count": 84,
     "metadata": {},
     "output_type": "execute_result"
    }
   ],
   "source": [
    "plot([F5,F6],collect(1:100),title = \"Integral error\",xlabel=\"partitions\",ylabel=\"error\")"
   ]
  },
  {
   "cell_type": "code",
   "execution_count": null,
   "metadata": {},
   "outputs": [],
   "source": []
  }
 ],
 "metadata": {
  "@webio": {
   "lastCommId": "c69a913f4ff141bca79400d7010a1432",
   "lastKernelId": "88825259-e3ba-4222-8e40-361a38a68d94"
  },
  "kernelspec": {
   "display_name": "Julia 1.0.1",
   "language": "julia",
   "name": "julia-1.0"
  },
  "language_info": {
   "file_extension": ".jl",
   "mimetype": "application/julia",
   "name": "julia",
   "version": "1.0.1"
  }
 },
 "nbformat": 4,
 "nbformat_minor": 2
}
