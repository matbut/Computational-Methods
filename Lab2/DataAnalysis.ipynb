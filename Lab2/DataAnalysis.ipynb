{
 "cells": [
  {
   "cell_type": "markdown",
   "metadata": {},
   "source": [
    "## MOwNiT Laboratorium 2 Analiza danych  \n",
    "#### Zebranie danych\n",
    "- Napisać program w języku C używającego interfejsu GSL do BLAS: funkcji gsl_blas_ddot (mnożenie dwóch wektorów) i gsl_blas_dgemv (mnożenie macierzy przez wektor).\n",
    "- Uruchomić i zmierzyć czasy działania obydwu funkcji - każdej dla różnych rozmiarów wektorów. Dokonać 10 pomiarów dla każdego rozmiaru wektora.\n",
    "- Czasy działania powinny być zapisywane do jednego pliku CSV. Należy zaplanować odpowiednią strukturę kolumn takiego pliku."
   ]
  },
  {
   "cell_type": "raw",
   "metadata": {},
   "source": [
    "#include <stdio.h>\n",
    "#include <gsl/gsl_blas.h>\n",
    "#include <gsl/gsl_vector.h>\n",
    "#include <time.h>\n",
    "#include <sys/time.h>\n",
    "#include <unistd.h>\n",
    "#include <string.h>\n",
    "\n",
    "#define SAMPLES_NUM 10 \n",
    "\n",
    "suseconds_t  count_time(struct timeval start,struct timeval end){\n",
    "\treturn (end.tv_sec-start.tv_sec)*1000000+end.tv_usec-start.tv_usec;\n",
    "}\n",
    "\n",
    "void csv_file(char *filename,char*exp_name,int dim,long int samples[SAMPLES_NUM]){\n",
    "\tFILE *fp;\n",
    "\t\n",
    "\tif(access(filename,F_OK)==-1){\n",
    "\t\tfp=fopen(filename,\"w\");\n",
    "\t\tfprintf(fp,\"Name,Dim,Time\\n\");\n",
    "\t}else{\n",
    "\t\tfp=fopen(filename,\"a\");\n",
    "\t}\n",
    "\tint i;\n",
    "\tfor(i=0;i<SAMPLES_NUM-1;i++)\n",
    "\t\tfprintf(fp,\"%s,%d,%ld\\n\",exp_name,dim,samples[i]);    \t\n",
    "\tfclose(fp);\n",
    "}\n",
    "\n",
    "int main(int argc, char **argv)\n",
    "{    \n",
    "\tsize_t matrix_dim = (size_t) atoi(argv[1]);\n",
    "\tsize_t vect_dim = matrix_dim*matrix_dim;\n",
    "\tchar*filename = strcat(argv[2],\".csv\");\n",
    "\n",
    "\tgsl_vector* vect1 = gsl_vector_alloc(vect_dim);\n",
    "\tgsl_vector* vect2 = gsl_vector_alloc(vect_dim);\t\n",
    "\tdouble result;\t\n",
    "\n",
    "\tgsl_vector* vect3 = gsl_vector_alloc(matrix_dim);\n",
    "\tgsl_matrix* matrix = gsl_matrix_alloc(matrix_dim,matrix_dim);\n",
    "\t\n",
    "\tint i,j;\t\n",
    "\tfor(i=0;i<vect_dim;i++){\n",
    "\t\tgsl_vector_set(vect1,i,43.123+i*1.61);\n",
    "\t\tgsl_vector_set(vect2,i,921.214+i*1.37);\t\t\n",
    "\t}\n",
    "\tfor(i=0;i<matrix_dim;i++){\n",
    "\t\tgsl_vector_set(vect3,i,874.521+i*1.73);\n",
    "\t\tfor(j=0;j<matrix_dim;j++)\n",
    "\t\t\tgsl_matrix_set(matrix,i,j,19.641+i*1.57-j*1.31);\n",
    "\t}\n",
    "\n",
    "\tstruct timeval start,end;\n",
    "\tsuseconds_t ddot_samples[SAMPLES_NUM];\n",
    "\tsuseconds_t dgemv_samples[SAMPLES_NUM];\n",
    "\t\n",
    "\tfor(i=0;i<SAMPLES_NUM;i++){\n",
    "\t\tgettimeofday(&start, 0);\n",
    "\t\tgsl_blas_ddot(vect1,vect2,&result);\n",
    "\t\tgettimeofday(&end, 0);\n",
    "\t\tddot_samples[i]=count_time(start,end);\n",
    "\n",
    "\t\tgettimeofday(&start,0);\n",
    "\t\tgsl_blas_dgemv(CblasNoTrans,1.0,matrix,vect3,0.0,vect3);\n",
    "\t\tgettimeofday(&end,0);\n",
    "\t\tdgemv_samples[i]=count_time(start,end);\t\n",
    "\t}\n",
    "\t\n",
    "\tcsv_file(filename,\"ddot\",vect_dim,ddot_samples);\n",
    "\tcsv_file(filename,\"dgemv\",matrix_dim,dgemv_samples); \n",
    "\treturn 0;\n",
    "}"
   ]
  },
  {
   "cell_type": "raw",
   "metadata": {},
   "source": [
    "#!/bin/bash\n",
    "# since Bash v4\n",
    "for i in {100..5000..100}\n",
    "do\n",
    "     ./blasProg $i data\n",
    "done"
   ]
  },
  {
   "cell_type": "markdown",
   "metadata": {},
   "source": [
    "#### Analiza danych\n",
    "- Wczytać dane z w/w pliku do jednego DataFrame w języku Julia.\n",
    "- Korzystająć z mechanizmów DataFrame w języku Julia obliczyć średnią i odchylenie standardowe, w taki sposób, aby narysować wykresy średnich czasów obliczenia operacji BLAS w zależności od rozmiaru wektora (macierzy) osobno dla poziomu 1 i poziomu 2. Dodać słupki błędów do obydwu wykresów uzyskanych z obliczenia odchylenia standardowego. Prosze poukladac wykresy w tabalke za pomoca opcji layout\n",
    "- Należy zadbać o staranne podpisanie osi i wykresów."
   ]
  },
  {
   "cell_type": "code",
   "execution_count": 1,
   "metadata": {},
   "outputs": [
    {
     "ename": "ArgumentError",
     "evalue": "ArgumentError: Package CSV not found in current path:\n- Run `import Pkg; Pkg.add(\"CSV\")` to install the CSV package.\n",
     "output_type": "error",
     "traceback": [
      "ArgumentError: Package CSV not found in current path:\n- Run `import Pkg; Pkg.add(\"CSV\")` to install the CSV package.\n",
      "",
      "Stacktrace:",
      " [1] require(::Module, ::Symbol) at ./loading.jl:820",
      " [2] top-level scope at In[1]:2"
     ]
    }
   ],
   "source": [
    "using DataFrames\n",
    "using CSV\n",
    "using Plots"
   ]
  },
  {
   "cell_type": "code",
   "execution_count": 2,
   "metadata": {
    "scrolled": true
   },
   "outputs": [
    {
     "name": "stderr",
     "output_type": "stream",
     "text": [
      "┌ Warning: readtable is deprecated, use CSV.read from the CSV package instead\n",
      "│   caller = top-level scope at In[2]:2\n",
      "└ @ Core In[2]:2\n"
     ]
    },
    {
     "data": {
      "text/html": [
       "<table class=\"data-frame\"><thead><tr><th></th><th>Name</th><th>Size</th><th>Time</th></tr><tr><th></th><th>String⍰</th><th>Int64⍰</th><th>Int64⍰</th></tr></thead><tbody><tr><th>1</th><td>ddot</td><td>10000</td><td>46</td></tr><tr><th>2</th><td>ddot</td><td>10000</td><td>35</td></tr><tr><th>3</th><td>ddot</td><td>10000</td><td>36</td></tr><tr><th>4</th><td>ddot</td><td>10000</td><td>36</td></tr><tr><th>5</th><td>ddot</td><td>10000</td><td>35</td></tr><tr><th>6</th><td>ddot</td><td>10000</td><td>36</td></tr><tr><th>7</th><td>ddot</td><td>10000</td><td>36</td></tr><tr><th>8</th><td>ddot</td><td>10000</td><td>35</td></tr><tr><th>9</th><td>ddot</td><td>10000</td><td>35</td></tr><tr><th>10</th><td>dgemv</td><td>100</td><td>42</td></tr><tr><th>11</th><td>dgemv</td><td>100</td><td>32</td></tr><tr><th>12</th><td>dgemv</td><td>100</td><td>33</td></tr><tr><th>13</th><td>dgemv</td><td>100</td><td>32</td></tr><tr><th>14</th><td>dgemv</td><td>100</td><td>31</td></tr><tr><th>15</th><td>dgemv</td><td>100</td><td>32</td></tr><tr><th>16</th><td>dgemv</td><td>100</td><td>32</td></tr><tr><th>17</th><td>dgemv</td><td>100</td><td>32</td></tr><tr><th>18</th><td>dgemv</td><td>100</td><td>32</td></tr><tr><th>19</th><td>ddot</td><td>40000</td><td>286</td></tr><tr><th>20</th><td>ddot</td><td>40000</td><td>211</td></tr><tr><th>21</th><td>ddot</td><td>40000</td><td>192</td></tr><tr><th>22</th><td>ddot</td><td>40000</td><td>204</td></tr><tr><th>23</th><td>ddot</td><td>40000</td><td>193</td></tr><tr><th>24</th><td>ddot</td><td>40000</td><td>189</td></tr><tr><th>25</th><td>ddot</td><td>40000</td><td>224</td></tr><tr><th>26</th><td>ddot</td><td>40000</td><td>198</td></tr><tr><th>27</th><td>ddot</td><td>40000</td><td>188</td></tr><tr><th>28</th><td>dgemv</td><td>200</td><td>191</td></tr><tr><th>29</th><td>dgemv</td><td>200</td><td>152</td></tr><tr><th>30</th><td>dgemv</td><td>200</td><td>149</td></tr><tr><th>&vellip;</th><td>&vellip;</td><td>&vellip;</td><td>&vellip;</td></tr></tbody></table>"
      ],
      "text/plain": [
       "1800×3 DataFrame\n",
       "│ Row  │ Name    │ Size     │ Time   │\n",
       "│      │ \u001b[90mString⍰\u001b[39m │ \u001b[90mInt64⍰\u001b[39m   │ \u001b[90mInt64⍰\u001b[39m │\n",
       "├──────┼─────────┼──────────┼────────┤\n",
       "│ 1    │ ddot    │ 10000    │ 46     │\n",
       "│ 2    │ ddot    │ 10000    │ 35     │\n",
       "│ 3    │ ddot    │ 10000    │ 36     │\n",
       "│ 4    │ ddot    │ 10000    │ 36     │\n",
       "│ 5    │ ddot    │ 10000    │ 35     │\n",
       "│ 6    │ ddot    │ 10000    │ 36     │\n",
       "│ 7    │ ddot    │ 10000    │ 36     │\n",
       "│ 8    │ ddot    │ 10000    │ 35     │\n",
       "│ 9    │ ddot    │ 10000    │ 35     │\n",
       "│ 10   │ dgemv   │ 100      │ 42     │\n",
       "⋮\n",
       "│ 1790 │ ddot    │ 25000000 │ 206777 │\n",
       "│ 1791 │ ddot    │ 25000000 │ 256937 │\n",
       "│ 1792 │ dgemv   │ 5000     │ 173603 │\n",
       "│ 1793 │ dgemv   │ 5000     │ 154734 │\n",
       "│ 1794 │ dgemv   │ 5000     │ 154790 │\n",
       "│ 1795 │ dgemv   │ 5000     │ 169975 │\n",
       "│ 1796 │ dgemv   │ 5000     │ 173011 │\n",
       "│ 1797 │ dgemv   │ 5000     │ 154639 │\n",
       "│ 1798 │ dgemv   │ 5000     │ 155020 │\n",
       "│ 1799 │ dgemv   │ 5000     │ 163691 │\n",
       "│ 1800 │ dgemv   │ 5000     │ 172457 │"
      ]
     },
     "execution_count": 2,
     "metadata": {},
     "output_type": "execute_result"
    }
   ],
   "source": [
    "df=DataFrame()\n",
    "df=readtable(\"data4.csv\")"
   ]
  },
  {
   "cell_type": "code",
   "execution_count": 3,
   "metadata": {
    "scrolled": true
   },
   "outputs": [
    {
     "ename": "UndefVarError",
     "evalue": "UndefVarError: mean not defined",
     "output_type": "error",
     "traceback": [
      "UndefVarError: mean not defined",
      "",
      "Stacktrace:",
      " [1] (::getfield(Main, Symbol(\"##4#6\")))(::SubDataFrame{Array{Int64,1}}) at ./In[3]:3",
      " [2] (::getfield(DataFrames, Symbol(\"##82#83\")){getfield(Main, Symbol(\"##4#6\"))})(::SubDataFrame{Array{Int64,1}}) at ./none:0",
      " [3] iterate at ./generator.jl:47 [inlined]",
      " [4] collect(::Base.Generator{GroupedDataFrame,getfield(DataFrames, Symbol(\"##82#83\")){getfield(Main, Symbol(\"##4#6\"))}}) at ./array.jl:619",
      " [5] map(::getfield(Main, Symbol(\"##4#6\")), ::GroupedDataFrame) at /home/mateusz/.julia/packages/DataFrames/1PqZ3/src/groupeddataframe/grouping.jl:159",
      " [6] #by#92(::Bool, ::Function, ::SubDataFrame{Array{Int64,1}}, ::Symbol, ::Function) at /home/mateusz/.julia/packages/DataFrames/1PqZ3/src/groupeddataframe/grouping.jl:296",
      " [7] #by at ./none:0 [inlined]",
      " [8] #by#93 at /home/mateusz/.julia/packages/DataFrames/1PqZ3/src/groupeddataframe/grouping.jl:298 [inlined]",
      " [9] by at /home/mateusz/.julia/packages/DataFrames/1PqZ3/src/groupeddataframe/grouping.jl:298 [inlined]",
      " [10] #3 at ./In[3]:2 [inlined]",
      " [11] (::getfield(DataFrames, Symbol(\"##82#83\")){getfield(Main, Symbol(\"##3#5\"))})(::SubDataFrame{Array{Int64,1}}) at ./none:0",
      " [12] iterate(::Base.Generator{GroupedDataFrame,getfield(DataFrames, Symbol(\"##82#83\")){getfield(Main, Symbol(\"##3#5\"))}}) at ./generator.jl:47",
      " [13] collect(::Base.Generator{GroupedDataFrame,getfield(DataFrames, Symbol(\"##82#83\")){getfield(Main, Symbol(\"##3#5\"))}}) at ./array.jl:619",
      " [14] map(::getfield(Main, Symbol(\"##3#5\")), ::GroupedDataFrame) at /home/mateusz/.julia/packages/DataFrames/1PqZ3/src/groupeddataframe/grouping.jl:159",
      " [15] #by#92(::Bool, ::Function, ::DataFrame, ::Symbol, ::Function) at /home/mateusz/.julia/packages/DataFrames/1PqZ3/src/groupeddataframe/grouping.jl:296",
      " [16] #by at ./none:0 [inlined]",
      " [17] #by#93 at /home/mateusz/.julia/packages/DataFrames/1PqZ3/src/groupeddataframe/grouping.jl:298 [inlined]",
      " [18] by(::Function, ::DataFrame, ::Symbol) at /home/mateusz/.julia/packages/DataFrames/1PqZ3/src/groupeddataframe/grouping.jl:298",
      " [19] top-level scope at In[3]:1"
     ]
    }
   ],
   "source": [
    "dfdata=by(df,:Name) do part1\n",
    "    by(part1,:Size) do part2\n",
    "        DataFrame(\n",
    "            Mean=mean(part2[:Time]),\n",
    "            Std=std(part2[:Time])\n",
    "        )\n",
    "    end\n",
    "end"
   ]
  },
  {
   "cell_type": "code",
   "execution_count": 4,
   "metadata": {
    "scrolled": true
   },
   "outputs": [
    {
     "ename": "UndefVarError",
     "evalue": "UndefVarError: dfdata not defined",
     "output_type": "error",
     "traceback": [
      "UndefVarError: dfdata not defined",
      "",
      "Stacktrace:",
      " [1] top-level scope at In[4]:1"
     ]
    }
   ],
   "source": [
    "plot(dfdata[:Size],dfdata[:Mean], group=dfdata[:Name], yerr=dfdata[:Std], \n",
    "   layout=(1,2),xlabel = \"size\",ylabel = \"time [us]\")"
   ]
  },
  {
   "cell_type": "code",
   "execution_count": 5,
   "metadata": {
    "scrolled": false
   },
   "outputs": [
    {
     "ename": "UndefVarError",
     "evalue": "UndefVarError: dfdata not defined",
     "output_type": "error",
     "traceback": [
      "UndefVarError: dfdata not defined",
      "",
      "Stacktrace:",
      " [1] top-level scope at In[5]:1"
     ]
    }
   ],
   "source": [
    "dfddot=dfdata[(dfdata[:Name].==\"ddot\"),:] \n",
    "dfdgemv=dfdata[(dfdata[:Name].==\"dgemv\"),:] "
   ]
  },
  {
   "cell_type": "code",
   "execution_count": 6,
   "metadata": {
    "scrolled": false
   },
   "outputs": [
    {
     "ename": "UndefVarError",
     "evalue": "UndefVarError: dfddot not defined",
     "output_type": "error",
     "traceback": [
      "UndefVarError: dfddot not defined",
      "",
      "Stacktrace:",
      " [1] top-level scope at In[6]:1"
     ]
    }
   ],
   "source": [
    "plot(dfddot[:Size],dfddot[:Mean],yerr=dfddot[:Std],xlabel = \"size\",ylabel = \"time [us]\")"
   ]
  },
  {
   "cell_type": "code",
   "execution_count": 7,
   "metadata": {},
   "outputs": [
    {
     "ename": "UndefVarError",
     "evalue": "UndefVarError: dfdgemv not defined",
     "output_type": "error",
     "traceback": [
      "UndefVarError: dfdgemv not defined",
      "",
      "Stacktrace:",
      " [1] top-level scope at In[7]:1"
     ]
    }
   ],
   "source": [
    "plot(dfdgemv[:Size],dfdgemv[:Mean],yerr=dfdgemv[:Std],xlabel = \"size\",ylabel = \"time [us]\")"
   ]
  }
 ],
 "metadata": {
  "kernelspec": {
   "display_name": "Julia 1.0.1",
   "language": "julia",
   "name": "julia-1.0"
  },
  "language_info": {
   "file_extension": ".jl",
   "mimetype": "application/julia",
   "name": "julia",
   "version": "1.0.1"
  }
 },
 "nbformat": 4,
 "nbformat_minor": 2
}
